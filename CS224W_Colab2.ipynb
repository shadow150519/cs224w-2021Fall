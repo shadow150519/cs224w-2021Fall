{
 "nbformat": 4,
 "nbformat_minor": 0,
 "metadata": {
  "kernelspec": {
   "display_name": "Python 3",
   "language": "python",
   "name": "python3"
  },
  "language_info": {
   "codemirror_mode": {
    "name": "ipython",
    "version": 3
   },
   "file_extension": ".py",
   "mimetype": "text/x-python",
   "name": "python",
   "nbconvert_exporter": "python",
   "pygments_lexer": "ipython3",
   "version": "3.7.3"
  },
  "colab": {
   "provenance": [],
   "machine_shape": "hm"
  },
  "accelerator": "GPU"
 },
 "cells": [
  {
   "cell_type": "markdown",
   "metadata": {
    "id": "XuXWJLEm2UWS"
   },
   "source": [
    "# **CS224W - Colab 2**"
   ]
  },
  {
   "cell_type": "markdown",
   "metadata": {
    "id": "8gzsP50bF6Gb"
   },
   "source": [
    "In Colab 2, we will work to construct our own graph neural network using PyTorch Geometric (PyG) and then apply that model on two Open Graph Benchmark (OGB) datasets. These two datasets will be used to benchmark your model's performance on two different graph-based tasks: 1) node property prediction, predicting properties of single nodes and 2) graph property prediction, predicting properties of entire graphs or subgraphs.\n",
    "\n",
    "First, we will learn how PyTorch Geometric stores graphs as PyTorch tensors.\n",
    "\n",
    "Then, we will load and inspect one of the Open Graph Benchmark (OGB) datasets by using the `ogb` package. OGB is a collection of realistic, large-scale, and diverse benchmark datasets for machine learning on graphs. The `ogb` package not only provides data loaders for each dataset but also model evaluators.\n",
    "\n",
    "Lastly, we will build our own graph neural network using PyTorch Geometric. We will then train and evaluate our model on the OGB node property prediction and graph property prediction tasks.\n",
    "\n",
    "**Note**: Make sure to **sequentially run all the cells in each section**, so that the intermediate variables / packages will carry over to the next cell\n",
    "\n",
    "We recommend you save a copy of this colab in your drive so you don't lose progress!\n",
    "\n",
    "Have fun and good luck on Colab 2 :)"
   ]
  },
  {
   "cell_type": "markdown",
   "metadata": {
    "id": "ZGKqVEbbMEzf"
   },
   "source": [
    "# Device\n",
    "You might need to use a GPU for this Colab to run quickly.\n",
    "\n",
    "Please click `Runtime` and then `Change runtime type`. Then set the `hardware accelerator` to **GPU**."
   ]
  },
  {
   "cell_type": "markdown",
   "metadata": {
    "id": "OCK7krJdp4o8"
   },
   "source": [
    "# Setup\n",
    "As discussed in Colab 0, the installation of PyG on Colab can be a little bit tricky. First let us check which version of PyTorch you are running"
   ]
  },
  {
   "cell_type": "code",
   "metadata": {
    "id": "2vkP8pA1qBE5"
   },
   "source": [
    "import torch\n",
    "import os\n",
    "\n",
    "print(\"PyTorch has version {}\".format(torch.__version__))"
   ],
   "execution_count": 256,
   "outputs": [
    {
     "name": "stdout",
     "output_type": "stream",
     "text": [
      "PyTorch has version 1.13.1+cu117\n"
     ]
    }
   ]
  },
  {
   "cell_type": "markdown",
   "metadata": {
    "id": "L6d22O6DqGSZ"
   },
   "source": [
    "Download the necessary packages for PyG. Make sure that your version of torch matches the output from the cell above. In case of any issues, more information can be found on the [PyG's installation page](https://pytorch-geometric.readthedocs.io/en/latest/notes/installation.html)."
   ]
  },
  {
   "cell_type": "code",
   "metadata": {
    "id": "zr8hfxJ-qRg2"
   },
   "source": [
    "# Install torch geometric\n",
    "print('IS_GRADESCOPE_ENV' in os.environ)\n",
    "# if 'IS_GRADESCOPE_ENV' not in os.environ:\n",
    "#   !pip install torch-scatter -f https://pytorch-geometric.com/whl/torch-1.9.0+cu111.html\n",
    "#   !pip install torch-sparse -f https://pytorch-geometric.com/whl/torch-1.9.0+cu111.html\n",
    "#   !pip install torch-geometric\n",
    "#   !pip install ogb"
   ],
   "execution_count": 257,
   "outputs": [
    {
     "name": "stdout",
     "output_type": "stream",
     "text": [
      "False\n"
     ]
    }
   ]
  },
  {
   "cell_type": "markdown",
   "metadata": {
    "id": "Nwwq0nSdmsOL"
   },
   "source": [
    "# 1) PyTorch Geometric (Datasets and Data)\n"
   ]
  },
  {
   "cell_type": "markdown",
   "metadata": {
    "id": "Sf7vUmdNKCjA"
   },
   "source": [
    "PyTorch Geometric has two classes for storing and/or transforming graphs into tensor format. One is `torch_geometric.datasets`, which contains a variety of common graph datasets. Another is `torch_geometric.data`, which provides the data handling of graphs in PyTorch tensors.\n",
    "\n",
    "In this section, we will learn how to use `torch_geometric.datasets` and `torch_geometric.data` together."
   ]
  },
  {
   "cell_type": "markdown",
   "metadata": {
    "id": "ic-o1P3r6hr2"
   },
   "source": [
    "## PyG Datasets\n",
    "\n",
    "The `torch_geometric.datasets` class has many common graph datasets. Here we will explore its usage through one example dataset."
   ]
  },
  {
   "cell_type": "code",
   "metadata": {
    "id": "zT5qca3x6XpG"
   },
   "source": [
    "from torch_geometric.datasets import TUDataset\n",
    "\n",
    "if 'IS_GRADESCOPE_ENV' not in os.environ:\n",
    "    root = './data/ENZYMES'\n",
    "    name = 'ENZYMES'\n",
    "\n",
    "    # The ENZYMES dataset\n",
    "    pyg_dataset = TUDataset(root, name)\n",
    "\n",
    "    # You will find that there are 600 graphs in this dataset\n",
    "    print(pyg_dataset)"
   ],
   "execution_count": 258,
   "outputs": [
    {
     "name": "stdout",
     "output_type": "stream",
     "text": [
      "ENZYMES(600)\n"
     ]
    }
   ]
  },
  {
   "cell_type": "markdown",
   "metadata": {
    "id": "NLm5vVYMAP2x"
   },
   "source": [
    "## Question 1: What is the number of classes and number of features in the ENZYMES dataset? (5 points)"
   ]
  },
  {
   "cell_type": "code",
   "metadata": {
    "id": "8iF_Kyqr_JbY"
   },
   "source": [
    "def get_num_classes(pyg_dataset):\n",
    "    # TODO: Implement a function that takes a PyG dataset object\n",
    "    # and returns the number of classes for that dataset.\n",
    "\n",
    "    num_classes = 0\n",
    "\n",
    "    ############# Your code here ############\n",
    "    ## (~1 line of code)\n",
    "    ## Note\n",
    "    ## 1. Colab autocomplete functionality might be useful.\n",
    "    num_classes = pyg_dataset.num_classes\n",
    "\n",
    "    #########################################\n",
    "\n",
    "    return num_classes\n",
    "\n",
    "\n",
    "def get_num_features(pyg_dataset):\n",
    "    # TODO: Implement a function that takes a PyG dataset object\n",
    "    # and returns the number of features for that dataset.\n",
    "\n",
    "    num_features = 0\n",
    "\n",
    "    ############# Your code here ############\n",
    "    ## (~1 line of code)\n",
    "    ## Note\n",
    "    ## 1. Colab autocomplete functionality might be useful.\n",
    "    num_features = pyg_dataset.num_features\n",
    "\n",
    "    #########################################\n",
    "\n",
    "    return num_features\n",
    "\n",
    "\n",
    "if 'IS_GRADESCOPE_ENV' not in os.environ:\n",
    "    num_classes = get_num_classes(pyg_dataset)\n",
    "    num_features = get_num_features(pyg_dataset)\n",
    "    print(\"{} dataset has {} classes\".format(name, num_classes))\n",
    "    print(\"{} dataset has {} features\".format(name, num_features))"
   ],
   "execution_count": 259,
   "outputs": [
    {
     "name": "stdout",
     "output_type": "stream",
     "text": [
      "ENZYMES dataset has 6 classes\n",
      "ENZYMES dataset has 3 features\n"
     ]
    }
   ]
  },
  {
   "cell_type": "markdown",
   "metadata": {
    "id": "rwKbzhHUAckZ"
   },
   "source": [
    "## PyG Data\n",
    "\n",
    "Each PyG dataset stores a list of `torch_geometric.data.Data` objects, where each `torch_geometric.data.Data` object represents a graph. We can easily get the `Data` object by indexing into the dataset.\n",
    "\n",
    "For more information such as what is stored in the `Data` object, please refer to the [documentation](https://pytorch-geometric.readthedocs.io/en/latest/modules/data.html#torch_geometric.data.Data)."
   ]
  },
  {
   "cell_type": "markdown",
   "metadata": {
    "id": "7sCV3xJWCddX"
   },
   "source": [
    "## Question 2: What is the label of the graph with index 100 in the ENZYMES dataset? (5 points)"
   ]
  },
  {
   "cell_type": "code",
   "metadata": {
    "id": "LIis9oTZAfs3"
   },
   "source": [
    "def get_graph_class(pyg_dataset, idx):\n",
    "    # TODO: Implement a function that takes a PyG dataset object,\n",
    "    # an index of a graph within the dataset, and returns the class/label\n",
    "    # of the graph (as an integer).\n",
    "\n",
    "    label = -1\n",
    "\n",
    "    ############# Your code here ############\n",
    "    ## (~1 line of code)\n",
    "    label = pyg_dataset[idx].y[0]\n",
    "\n",
    "    #########################################\n",
    "\n",
    "    return label\n",
    "\n",
    "\n",
    "# Here pyg_dataset is a dataset for graph classification\n",
    "if 'IS_GRADESCOPE_ENV' not in os.environ:\n",
    "    graph_0 = pyg_dataset[0]\n",
    "    print(graph_0)\n",
    "    idx = 100\n",
    "    label = get_graph_class(pyg_dataset, idx)\n",
    "    print('Graph with index {} has label {}'.format(idx, label))"
   ],
   "execution_count": 260,
   "outputs": [
    {
     "name": "stdout",
     "output_type": "stream",
     "text": [
      "Data(edge_index=[2, 168], x=[37, 3], y=[1])\n",
      "Graph with index 100 has label 4\n"
     ]
    }
   ]
  },
  {
   "cell_type": "markdown",
   "metadata": {
    "id": "fKhcVeAhCwoY"
   },
   "source": [
    "## Question 3: How many edges does the graph with index 200 have? (5 points)"
   ]
  },
  {
   "cell_type": "code",
   "metadata": {
    "id": "f5m2DOfhBtWv"
   },
   "source": [
    "def get_graph_num_edges(pyg_dataset, idx):\n",
    "    # TODO: Implement a function that takes a PyG dataset object,\n",
    "    # the index of a graph in the dataset, and returns the number of\n",
    "    # edges in the graph (as an integer). You should not count an edge\n",
    "    # twice if the graph is undirected. For example, in an undirected\n",
    "    # graph G, if two nodes v and u are connected by an edge, this edge\n",
    "    # should only be counted once.\n",
    "\n",
    "    num_edges = 0\n",
    "\n",
    "    ############# Your code here ############\n",
    "    ## Note:\n",
    "    ## 1. You can't return the data.num_edges directly\n",
    "    ## 2. We assume the graph is undirected\n",
    "    ## 3. Look at the PyG dataset built in functions\n",
    "    ## (~4 lines of code)\n",
    "\n",
    "    # num_edges = pyg_dataset[idx].num_edges / 2\n",
    "    # this required no self loop\n",
    "    edges = pyg_dataset[idx].edge_index\n",
    "    num_edges = edges[:, edges[0, :] < edges[1, :]].shape[1]\n",
    "\n",
    "    #########################################\n",
    "\n",
    "    return num_edges\n",
    "\n",
    "\n",
    "if 'IS_GRADESCOPE_ENV' not in os.environ:\n",
    "    idx = 200\n",
    "    num_edges = get_graph_num_edges(pyg_dataset, idx)\n",
    "    print('Graph with index {} has {} edges'.format(idx, num_edges))"
   ],
   "execution_count": 261,
   "outputs": [
    {
     "name": "stdout",
     "output_type": "stream",
     "text": [
      "Graph with index 200 has 53 edges\n"
     ]
    }
   ]
  },
  {
   "cell_type": "markdown",
   "metadata": {
    "id": "AXa7yIG4E0Fp"
   },
   "source": [
    "# 2) Open Graph Benchmark (OGB)\n",
    "\n",
    "The Open Graph Benchmark (OGB) is a collection of realistic, large-scale, and diverse benchmark datasets for machine learning on graphs. Its datasets are automatically downloaded, processed, and split using the OGB Data Loader. The model performance can then be evaluated by using the OGB Evaluator in a unified manner."
   ]
  },
  {
   "cell_type": "markdown",
   "metadata": {
    "id": "HnazPGGAJAZN"
   },
   "source": [
    "## Dataset and Data\n",
    "\n",
    "OGB also supports PyG dataset and data classes. Here we take a look on the `ogbn-arxiv` dataset."
   ]
  },
  {
   "cell_type": "code",
   "metadata": {
    "id": "Gpc6bTm3GF02"
   },
   "source": [
    "import torch_geometric.transforms as T\n",
    "from ogb.nodeproppred import PygNodePropPredDataset\n",
    "\n",
    "if 'IS_GRADESCOPE_ENV' not in os.environ:\n",
    "    dataset_name = 'ogbn-arxiv'\n",
    "    # Load the dataset and transform it to sparse tensor\n",
    "    dataset = PygNodePropPredDataset(name=dataset_name, root=\"./data\",\n",
    "                                     transform=T.ToSparseTensor())\n",
    "    print('The {} dataset has {} graph'.format(dataset_name, len(dataset)))\n",
    "\n",
    "    # Extract the graph\n",
    "    data = dataset[0]\n",
    "    print(data)"
   ],
   "execution_count": 262,
   "outputs": [
    {
     "name": "stdout",
     "output_type": "stream",
     "text": [
      "The ogbn-arxiv dataset has 1 graph\n",
      "Data(num_nodes=169343, x=[169343, 128], node_year=[169343, 1], y=[169343, 1], adj_t=[169343, 169343, nnz=1166243])\n"
     ]
    }
   ]
  },
  {
   "cell_type": "markdown",
   "metadata": {
    "id": "Cw0xZJKZI-n3"
   },
   "source": [
    "## Question 4: How many features are in the ogbn-arxiv graph? (5 points)"
   ]
  },
  {
   "cell_type": "code",
   "metadata": {
    "id": "ZP844_nT2ZJl"
   },
   "source": [
    "def graph_num_features(data):\n",
    "    # TODO: Implement a function that takes a PyG data object,\n",
    "    # and returns the number of features in the graph (as an integer).\n",
    "\n",
    "    num_features = 0\n",
    "\n",
    "    ############# Your code here ############\n",
    "    ## (~1 line of code)\n",
    "    num_features = data.num_features\n",
    "\n",
    "    #########################################\n",
    "\n",
    "    return num_features\n",
    "\n",
    "\n",
    "if 'IS_GRADESCOPE_ENV' not in os.environ:\n",
    "    num_features = graph_num_features(data)\n",
    "    print('The graph has {} features'.format(num_features))"
   ],
   "execution_count": 263,
   "outputs": [
    {
     "name": "stdout",
     "output_type": "stream",
     "text": [
      "The graph has 128 features\n"
     ]
    }
   ]
  },
  {
   "cell_type": "markdown",
   "metadata": {
    "id": "9DP_yEQZ0NVW"
   },
   "source": [
    "# 3) GNN: Node Property Prediction\n",
    "\n",
    "In this section we will build our first graph neural network using PyTorch Geometric. Then we will apply it to the task of node property prediction (node classification).\n",
    "\n",
    "Specifically, we will use GCN as the foundation for your graph neural network ([Kipf et al. (2017)](https://arxiv.org/pdf/1609.02907.pdf)). To do so, we will work with PyG's built-in `GCNConv` layer. "
   ]
  },
  {
   "cell_type": "markdown",
   "metadata": {
    "id": "O4CcOUEoInjD"
   },
   "source": [
    "## Setup"
   ]
  },
  {
   "cell_type": "code",
   "metadata": {
    "id": "-DCtgcHpGIpd"
   },
   "source": [
    "import torch\n",
    "import pandas as pd\n",
    "import torch.nn.functional as F\n",
    "\n",
    "print(torch.__version__)\n",
    "\n",
    "# The PyG built-in GCNConv\n",
    "from torch_geometric.nn import GCNConv\n",
    "\n",
    "import torch_geometric.transforms as T\n",
    "from ogb.nodeproppred import PygNodePropPredDataset, Evaluator"
   ],
   "execution_count": 264,
   "outputs": [
    {
     "name": "stdout",
     "output_type": "stream",
     "text": [
      "1.13.1+cu117\n"
     ]
    }
   ]
  },
  {
   "cell_type": "markdown",
   "metadata": {
    "id": "0IK9z0wQIwzQ"
   },
   "source": [
    "## Load and Preprocess the Dataset"
   ]
  },
  {
   "cell_type": "code",
   "metadata": {
    "id": "0ibJ0ieoIwQM"
   },
   "source": [
    "if 'IS_GRADESCOPE_ENV' not in os.environ:\n",
    "    dataset_name = 'ogbn-arxiv'\n",
    "    dataset = PygNodePropPredDataset(name=dataset_name,\n",
    "                                     transform=T.ToSparseTensor())\n",
    "\n",
    "    data = dataset[0]\n",
    "    # print(f\"dataset[0]:{data}\")\n",
    "    # print(data.adj_t.is_symmetric())\n",
    "\n",
    "    # Make the adjacency matrix to symmetric\n",
    "    data.adj_t = data.adj_t.to_symmetric()\n",
    "\n",
    "    device = 'cuda' if torch.cuda.is_available() else 'cpu'\n",
    "\n",
    "    # If you use GPU, the device should be cuda\n",
    "    print('Device: {}'.format(device))\n",
    "\n",
    "    data = data.to(device)\n",
    "    # split idx to train validation test\n",
    "    split_idx = dataset.get_idx_split()\n",
    "    train_idx = split_idx['train'].to(device)"
   ],
   "execution_count": 265,
   "outputs": [
    {
     "name": "stdout",
     "output_type": "stream",
     "text": [
      "Device: cuda\n"
     ]
    }
   ]
  },
  {
   "cell_type": "markdown",
   "metadata": {
    "id": "OgUA815bNJ8w"
   },
   "source": [
    "## GCN Model\n",
    "\n",
    "Now we will implement our GCN model!\n",
    "\n",
    "Please follow the figure below to implement the `forward` function.\n",
    "\n",
    "\n",
    "![test](https://drive.google.com/uc?id=128AuYAXNXGg7PIhJJ7e420DoPWKb-RtL)"
   ]
  },
  {
   "cell_type": "code",
   "metadata": {
    "id": "IgspXTYpNJLA"
   },
   "source": [
    "class GCN(torch.nn.Module):\n",
    "    def __init__(self, input_dim, hidden_dim, output_dim, num_layers,\n",
    "                 dropout, return_embeds=False):\n",
    "        # TODO: Implement a function that initializes self.convs, \n",
    "        # self.bns, and self.softmax.\n",
    "\n",
    "        super(GCN, self).__init__()\n",
    "\n",
    "        # A list of GCNConv layers\n",
    "        self.convs = None\n",
    "\n",
    "        # A list of 1D batch normalization layers\n",
    "        self.bns = None\n",
    "\n",
    "        # The log softmax layer\n",
    "        self.softmax = None\n",
    "\n",
    "        ############# Your code here ############\n",
    "        ## Note:\n",
    "        ## 1. You should use torch.nn.ModuleList for self.convs and self.bns\n",
    "        ## 2. self.convs has num_layers GCNConv layers\n",
    "        ## 3. self.bns has num_layers - 1 BatchNorm1d layers\n",
    "        ## 4. You should use torch.nn.LogSoftmax for self.softmax\n",
    "        ## 5. The parameters you can set for GCNConv include 'in_channels' and \n",
    "        ## 'out_channels'. For more information please refer to the documentation:\n",
    "        ## https://pytorch-geometric.readthedocs.io/en/latest/modules/nn.html#torch_geometric.nn.conv.GCNConv\n",
    "        ## 6. The only parameter you need to set for BatchNorm1d is 'num_features'\n",
    "        ## For more information please refer to the documentation: \n",
    "        ## https://pytorch.org/docs/stable/generated/torch.nn.BatchNorm1d.html\n",
    "        ## (~10 lines of code)\n",
    "        self.convs = torch.nn.ModuleList([\n",
    "            GCNConv(input_dim, hidden_dim),\n",
    "            *[GCNConv(hidden_dim, hidden_dim) for _ in range(num_layers - 2)],\n",
    "            GCNConv(hidden_dim,output_dim)\n",
    "        ])\n",
    "\n",
    "        self.bns = torch.nn.ModuleList([torch.nn.BatchNorm1d(hidden_dim) for _ in range(num_layers - 1)])\n",
    "        self.softmax = torch.nn.LogSoftmax(dim=-1)\n",
    "        #########################################\n",
    "\n",
    "        # Probability of an element getting zeroed\n",
    "        self.dropout = dropout\n",
    "\n",
    "        # Skip classification layer and return node embeddings\n",
    "        self.return_embeds = return_embeds\n",
    "\n",
    "    def reset_parameters(self):\n",
    "        for conv in self.convs:\n",
    "            conv.reset_parameters()\n",
    "        for bn in self.bns:\n",
    "            bn.reset_parameters()\n",
    "\n",
    "    def forward(self, x, adj_t):\n",
    "        # TODO: Implement a function that takes the feature tensor x and\n",
    "        # edge_index tensor adj_t and returns the output tensor as\n",
    "        # shown in the figure.\n",
    "\n",
    "        out = None\n",
    "\n",
    "        ############# Your code here ############\n",
    "        ## Note:\n",
    "        ## 1. Construct the network as shown in the figure\n",
    "        ## 2. torch.nn.functional.relu and torch.nn.functional.dropout are useful\n",
    "        ## For more information please refer to the documentation:\n",
    "        ## https://pytorch.org/docs/stable/nn.functional.html\n",
    "        ## 3. Don't forget to set F.dropout training to self.training\n",
    "        ## 4. If return_embeds is True, then skip the last softmax layer\n",
    "        ## (~7 lines of code)\n",
    "        for i in range(len(self.bns) - 1):\n",
    "            # print(f\"get block {i}\")\n",
    "            x = self.convs[i](x, adj_t)\n",
    "            x = self.bns[i](x)\n",
    "            x = F.relu(x)\n",
    "            if self.training:\n",
    "                x = F.dropout(x, self.dropout)\n",
    "        x = self.convs[-1](x,adj_t)\n",
    "        out =  self.softmax(x) if not self.return_embeds else x\n",
    "        #########################################\n",
    "\n",
    "        return out"
   ],
   "execution_count": 266,
   "outputs": []
  },
  {
   "cell_type": "code",
   "execution_count": 267,
   "outputs": [],
   "source": [
    "# net = GCN(20,30,40,4,0.5)\n",
    "# print(net)"
   ],
   "metadata": {
    "collapsed": false
   }
  },
  {
   "cell_type": "code",
   "metadata": {
    "id": "FF1hnHUhO81e"
   },
   "source": [
    "def train(model, data, train_idx, optimizer, loss_fn):\n",
    "    # TODO: Implement a function that trains the model by \n",
    "    # using the given optimizer and loss_fn.\n",
    "    model.train()\n",
    "    loss = 0\n",
    "\n",
    "    ############# Your code here ############\n",
    "    ## Note:\n",
    "    ## 1. Zero grad the optimizer\n",
    "    ## 2. Feed the data into the model\n",
    "    ## 3. Slice the model output and label by train_idx\n",
    "    ## 4. Feed the sliced output and label to loss_fn\n",
    "    ## (~4 lines of code)\n",
    "    optimizer.zero_grad()\n",
    "    pred = model(data.x,data.adj_t)[train_idx]\n",
    "    labels = data.y[train_idx].reshape(-1)\n",
    "    # print(f\"label shape:{labels.shape}, pred shape:{pred.shape}\")\n",
    "    loss = loss_fn(pred,labels)\n",
    "    #########################################\n",
    "\n",
    "    loss.backward()\n",
    "    optimizer.step()\n",
    "\n",
    "    return loss.item()"
   ],
   "execution_count": 268,
   "outputs": []
  },
  {
   "cell_type": "code",
   "metadata": {
    "id": "aJdlrJQhPBsK"
   },
   "source": [
    "# Test function here\n",
    "@torch.no_grad()\n",
    "def test(model, data, split_idx, evaluator, save_model_results=False):\n",
    "    # TODO: Implement a function that tests the model by \n",
    "    # using the given split_idx and evaluator.\n",
    "    model.eval()\n",
    "\n",
    "    # The output of model on all data\n",
    "    out = None\n",
    "\n",
    "    ############# Your code here ############\n",
    "    ## (~1 line of code)\n",
    "    ## Note:\n",
    "    ## 1. No index slicing here\n",
    "    out = model(data.x,data.adj_t)\n",
    "    #########################################\n",
    "\n",
    "    y_pred = out.argmax(dim=-1, keepdim=True)\n",
    "\n",
    "    train_acc = evaluator.eval({\n",
    "        'y_true': data.y[split_idx['train']],\n",
    "        'y_pred': y_pred[split_idx['train']],\n",
    "    })['acc']\n",
    "    valid_acc = evaluator.eval({\n",
    "        'y_true': data.y[split_idx['valid']],\n",
    "        'y_pred': y_pred[split_idx['valid']],\n",
    "    })['acc']\n",
    "    test_acc = evaluator.eval({\n",
    "        'y_true': data.y[split_idx['test']],\n",
    "        'y_pred': y_pred[split_idx['test']],\n",
    "    })['acc']\n",
    "\n",
    "    if save_model_results:\n",
    "        print(\"Saving Model Predictions\")\n",
    "\n",
    "        data = {}\n",
    "        data['y_pred'] = y_pred.view(-1).cpu().detach().numpy()\n",
    "\n",
    "        df = pd.DataFrame(data=data)\n",
    "        # Save locally as csv\n",
    "        df.to_csv('ogbn-arxiv_node.csv', sep=',', index=False)\n",
    "\n",
    "    return train_acc, valid_acc, test_acc"
   ],
   "execution_count": 269,
   "outputs": []
  },
  {
   "cell_type": "code",
   "metadata": {
    "id": "o7F46xkuLiOL"
   },
   "source": [
    "# Please do not change the args\n",
    "if 'IS_GRADESCOPE_ENV' not in os.environ:\n",
    "    args = {\n",
    "        'device': device,\n",
    "        'num_layers': 3,\n",
    "        'hidden_dim': 256,\n",
    "        'dropout': 0.5,\n",
    "        'lr': 0.01,\n",
    "        'epochs': 100,\n",
    "    }\n",
    "    args"
   ],
   "execution_count": 270,
   "outputs": []
  },
  {
   "cell_type": "code",
   "metadata": {
    "id": "dT8RyM2cPGxM"
   },
   "source": [
    "if 'IS_GRADESCOPE_ENV' not in os.environ:\n",
    "    model = GCN(data.num_features, args['hidden_dim'],\n",
    "                dataset.num_classes, args['num_layers'],\n",
    "                args['dropout']).to(device)\n",
    "    evaluator = Evaluator(name='ogbn-arxiv')\n",
    "    print(model)"
   ],
   "execution_count": 271,
   "outputs": [
    {
     "name": "stdout",
     "output_type": "stream",
     "text": [
      "GCN(\n",
      "  (convs): ModuleList(\n",
      "    (0): GCNConv(128, 256)\n",
      "    (1): GCNConv(256, 256)\n",
      "    (2): GCNConv(256, 40)\n",
      "  )\n",
      "  (bns): ModuleList(\n",
      "    (0): BatchNorm1d(256, eps=1e-05, momentum=0.1, affine=True, track_running_stats=True)\n",
      "    (1): BatchNorm1d(256, eps=1e-05, momentum=0.1, affine=True, track_running_stats=True)\n",
      "  )\n",
      "  (softmax): LogSoftmax(dim=-1)\n",
      ")\n"
     ]
    }
   ]
  },
  {
   "cell_type": "code",
   "metadata": {
    "id": "qd5O5cnPPdVF"
   },
   "source": [
    "import copy\n",
    "\n",
    "if 'IS_GRADESCOPE_ENV' not in os.environ:\n",
    "    # reset the parameters to initial random value\n",
    "    model.reset_parameters()\n",
    "\n",
    "    optimizer = torch.optim.Adam(model.parameters(), lr=args['lr'])\n",
    "    loss_fn = F.nll_loss\n",
    "\n",
    "    best_model = None\n",
    "    best_valid_acc = 0\n",
    "    for epoch in range(1, 1 + args[\"epochs\"]):\n",
    "        loss = train(model, data, train_idx, optimizer, loss_fn)\n",
    "        result = test(model, data, split_idx, evaluator)\n",
    "        train_acc, valid_acc, test_acc = result\n",
    "        if valid_acc > best_valid_acc:\n",
    "            best_valid_acc = valid_acc\n",
    "            best_model = copy.deepcopy(model)\n",
    "        print(f'Epoch: {epoch:02d}, '\n",
    "              f'Loss: {loss:.4f}, '\n",
    "              f'Train: {100 * train_acc:.2f}%, '\n",
    "              f'Valid: {100 * valid_acc:.2f}% '\n",
    "              f'Test: {100 * test_acc:.2f}%')"
   ],
   "execution_count": 272,
   "outputs": [
    {
     "name": "stdout",
     "output_type": "stream",
     "text": [
      "Epoch: 01, Loss: 4.2084, Train: 28.51%, Valid: 30.35% Test: 27.07%\n",
      "Epoch: 02, Loss: 2.5706, Train: 28.17%, Valid: 30.25% Test: 27.16%\n",
      "Epoch: 03, Loss: 2.2234, Train: 33.17%, Valid: 40.06% Test: 42.95%\n",
      "Epoch: 04, Loss: 2.0402, Train: 35.88%, Valid: 42.32% Test: 45.46%\n",
      "Epoch: 05, Loss: 1.8651, Train: 42.76%, Valid: 50.16% Test: 52.32%\n",
      "Epoch: 06, Loss: 1.7415, Train: 48.47%, Valid: 53.27% Test: 53.05%\n",
      "Epoch: 07, Loss: 1.6570, Train: 49.79%, Valid: 51.03% Test: 47.25%\n",
      "Epoch: 08, Loss: 1.5962, Train: 51.38%, Valid: 51.81% Test: 47.36%\n",
      "Epoch: 09, Loss: 1.5448, Train: 53.49%, Valid: 54.80% Test: 51.20%\n",
      "Epoch: 10, Loss: 1.4965, Train: 55.11%, Valid: 58.14% Test: 56.37%\n",
      "Epoch: 11, Loss: 1.4503, Train: 56.20%, Valid: 59.63% Test: 59.08%\n",
      "Epoch: 12, Loss: 1.4105, Train: 56.64%, Valid: 60.17% Test: 59.99%\n",
      "Epoch: 13, Loss: 1.3770, Train: 56.97%, Valid: 60.42% Test: 60.03%\n",
      "Epoch: 14, Loss: 1.3451, Train: 57.26%, Valid: 60.43% Test: 59.86%\n",
      "Epoch: 15, Loss: 1.3294, Train: 58.22%, Valid: 60.75% Test: 59.67%\n",
      "Epoch: 16, Loss: 1.3089, Train: 59.82%, Valid: 61.60% Test: 60.39%\n",
      "Epoch: 17, Loss: 1.2898, Train: 61.51%, Valid: 63.10% Test: 62.18%\n",
      "Epoch: 18, Loss: 1.2653, Train: 62.85%, Valid: 64.02% Test: 63.62%\n",
      "Epoch: 19, Loss: 1.2514, Train: 63.60%, Valid: 64.70% Test: 64.10%\n",
      "Epoch: 20, Loss: 1.2366, Train: 64.04%, Valid: 64.98% Test: 64.19%\n",
      "Epoch: 21, Loss: 1.2240, Train: 64.24%, Valid: 65.02% Test: 63.64%\n",
      "Epoch: 22, Loss: 1.2152, Train: 64.40%, Valid: 65.18% Test: 63.59%\n",
      "Epoch: 23, Loss: 1.2024, Train: 64.55%, Valid: 65.52% Test: 63.87%\n",
      "Epoch: 24, Loss: 1.1929, Train: 64.80%, Valid: 65.83% Test: 64.48%\n",
      "Epoch: 25, Loss: 1.1860, Train: 65.01%, Valid: 65.81% Test: 64.85%\n",
      "Epoch: 26, Loss: 1.1754, Train: 65.31%, Valid: 65.79% Test: 64.96%\n",
      "Epoch: 27, Loss: 1.1651, Train: 65.59%, Valid: 66.10% Test: 65.48%\n",
      "Epoch: 28, Loss: 1.1587, Train: 66.01%, Valid: 66.63% Test: 66.31%\n",
      "Epoch: 29, Loss: 1.1492, Train: 66.47%, Valid: 66.87% Test: 66.34%\n",
      "Epoch: 30, Loss: 1.1438, Train: 66.92%, Valid: 67.20% Test: 66.43%\n",
      "Epoch: 31, Loss: 1.1373, Train: 67.39%, Valid: 67.55% Test: 66.38%\n",
      "Epoch: 32, Loss: 1.1345, Train: 67.73%, Valid: 67.55% Test: 65.74%\n",
      "Epoch: 33, Loss: 1.1229, Train: 67.85%, Valid: 67.30% Test: 65.44%\n",
      "Epoch: 34, Loss: 1.1199, Train: 68.09%, Valid: 67.72% Test: 66.10%\n",
      "Epoch: 35, Loss: 1.1127, Train: 68.25%, Valid: 68.05% Test: 66.70%\n",
      "Epoch: 36, Loss: 1.1060, Train: 68.51%, Valid: 68.55% Test: 67.48%\n",
      "Epoch: 37, Loss: 1.1058, Train: 68.61%, Valid: 68.79% Test: 67.79%\n",
      "Epoch: 38, Loss: 1.1008, Train: 68.79%, Valid: 68.61% Test: 67.14%\n",
      "Epoch: 39, Loss: 1.0929, Train: 68.78%, Valid: 68.38% Test: 66.56%\n",
      "Epoch: 40, Loss: 1.0888, Train: 68.84%, Valid: 68.51% Test: 66.39%\n",
      "Epoch: 41, Loss: 1.0851, Train: 69.10%, Valid: 68.84% Test: 67.25%\n",
      "Epoch: 42, Loss: 1.0801, Train: 69.36%, Valid: 69.49% Test: 68.50%\n",
      "Epoch: 43, Loss: 1.0796, Train: 69.43%, Valid: 69.66% Test: 69.18%\n",
      "Epoch: 44, Loss: 1.0739, Train: 69.44%, Valid: 69.71% Test: 69.28%\n",
      "Epoch: 45, Loss: 1.0699, Train: 69.54%, Valid: 69.64% Test: 68.85%\n",
      "Epoch: 46, Loss: 1.0643, Train: 69.61%, Valid: 69.40% Test: 68.16%\n",
      "Epoch: 47, Loss: 1.0650, Train: 69.67%, Valid: 69.17% Test: 67.57%\n",
      "Epoch: 48, Loss: 1.0607, Train: 69.83%, Valid: 69.24% Test: 67.69%\n",
      "Epoch: 49, Loss: 1.0584, Train: 70.01%, Valid: 69.59% Test: 68.45%\n",
      "Epoch: 50, Loss: 1.0543, Train: 70.08%, Valid: 69.85% Test: 69.06%\n",
      "Epoch: 51, Loss: 1.0518, Train: 70.22%, Valid: 69.82% Test: 68.98%\n",
      "Epoch: 52, Loss: 1.0483, Train: 70.29%, Valid: 69.73% Test: 68.53%\n",
      "Epoch: 53, Loss: 1.0464, Train: 70.30%, Valid: 69.61% Test: 68.05%\n",
      "Epoch: 54, Loss: 1.0431, Train: 70.35%, Valid: 69.60% Test: 68.15%\n",
      "Epoch: 55, Loss: 1.0425, Train: 70.35%, Valid: 69.70% Test: 68.68%\n",
      "Epoch: 56, Loss: 1.0360, Train: 70.40%, Valid: 69.91% Test: 69.31%\n",
      "Epoch: 57, Loss: 1.0348, Train: 70.41%, Valid: 70.13% Test: 69.77%\n",
      "Epoch: 58, Loss: 1.0320, Train: 70.50%, Valid: 70.19% Test: 69.76%\n",
      "Epoch: 59, Loss: 1.0301, Train: 70.60%, Valid: 70.07% Test: 69.17%\n",
      "Epoch: 60, Loss: 1.0268, Train: 70.60%, Valid: 69.69% Test: 68.06%\n",
      "Epoch: 61, Loss: 1.0242, Train: 70.71%, Valid: 69.80% Test: 68.37%\n",
      "Epoch: 62, Loss: 1.0230, Train: 70.83%, Valid: 70.13% Test: 69.32%\n",
      "Epoch: 63, Loss: 1.0207, Train: 70.85%, Valid: 70.27% Test: 69.82%\n",
      "Epoch: 64, Loss: 1.0177, Train: 70.94%, Valid: 70.20% Test: 69.57%\n",
      "Epoch: 65, Loss: 1.0155, Train: 71.00%, Valid: 69.97% Test: 68.64%\n",
      "Epoch: 66, Loss: 1.0143, Train: 70.93%, Valid: 69.71% Test: 67.95%\n",
      "Epoch: 67, Loss: 1.0112, Train: 71.08%, Valid: 70.10% Test: 69.15%\n",
      "Epoch: 68, Loss: 1.0099, Train: 71.10%, Valid: 70.42% Test: 70.07%\n",
      "Epoch: 69, Loss: 1.0078, Train: 71.26%, Valid: 70.51% Test: 70.12%\n",
      "Epoch: 70, Loss: 1.0065, Train: 71.47%, Valid: 70.25% Test: 69.20%\n",
      "Epoch: 71, Loss: 1.0050, Train: 71.39%, Valid: 69.69% Test: 67.69%\n",
      "Epoch: 72, Loss: 1.0009, Train: 71.47%, Valid: 70.11% Test: 68.65%\n",
      "Epoch: 73, Loss: 0.9999, Train: 71.52%, Valid: 70.59% Test: 69.83%\n",
      "Epoch: 74, Loss: 0.9977, Train: 71.60%, Valid: 70.56% Test: 69.92%\n",
      "Epoch: 75, Loss: 0.9976, Train: 71.61%, Valid: 70.31% Test: 68.71%\n",
      "Epoch: 76, Loss: 0.9932, Train: 71.61%, Valid: 69.89% Test: 67.94%\n",
      "Epoch: 77, Loss: 0.9938, Train: 71.71%, Valid: 70.40% Test: 69.45%\n",
      "Epoch: 78, Loss: 0.9939, Train: 71.66%, Valid: 70.52% Test: 69.96%\n",
      "Epoch: 79, Loss: 0.9888, Train: 71.70%, Valid: 70.49% Test: 69.72%\n",
      "Epoch: 80, Loss: 0.9910, Train: 71.79%, Valid: 70.43% Test: 69.08%\n",
      "Epoch: 81, Loss: 0.9864, Train: 71.80%, Valid: 70.27% Test: 68.53%\n",
      "Epoch: 82, Loss: 0.9830, Train: 71.87%, Valid: 70.42% Test: 68.96%\n",
      "Epoch: 83, Loss: 0.9825, Train: 71.91%, Valid: 70.60% Test: 69.62%\n",
      "Epoch: 84, Loss: 0.9828, Train: 72.00%, Valid: 70.65% Test: 69.46%\n",
      "Epoch: 85, Loss: 0.9801, Train: 72.09%, Valid: 70.50% Test: 69.11%\n",
      "Epoch: 86, Loss: 0.9786, Train: 72.10%, Valid: 70.56% Test: 69.42%\n",
      "Epoch: 87, Loss: 0.9748, Train: 72.12%, Valid: 70.76% Test: 69.78%\n",
      "Epoch: 88, Loss: 0.9730, Train: 72.20%, Valid: 70.72% Test: 69.65%\n",
      "Epoch: 89, Loss: 0.9728, Train: 72.25%, Valid: 70.69% Test: 69.57%\n",
      "Epoch: 90, Loss: 0.9714, Train: 72.29%, Valid: 70.61% Test: 69.36%\n",
      "Epoch: 91, Loss: 0.9715, Train: 72.24%, Valid: 70.83% Test: 69.79%\n",
      "Epoch: 92, Loss: 0.9686, Train: 72.25%, Valid: 70.70% Test: 69.74%\n",
      "Epoch: 93, Loss: 0.9678, Train: 72.26%, Valid: 70.27% Test: 68.97%\n",
      "Epoch: 94, Loss: 0.9643, Train: 72.39%, Valid: 70.48% Test: 69.18%\n",
      "Epoch: 95, Loss: 0.9642, Train: 72.34%, Valid: 70.77% Test: 69.93%\n",
      "Epoch: 96, Loss: 0.9627, Train: 72.33%, Valid: 70.86% Test: 70.06%\n",
      "Epoch: 97, Loss: 0.9639, Train: 72.37%, Valid: 70.13% Test: 68.27%\n",
      "Epoch: 98, Loss: 0.9583, Train: 72.30%, Valid: 69.67% Test: 67.54%\n",
      "Epoch: 99, Loss: 0.9575, Train: 72.48%, Valid: 70.93% Test: 70.23%\n",
      "Epoch: 100, Loss: 0.9573, Train: 72.23%, Valid: 70.84% Test: 70.32%\n"
     ]
    }
   ]
  },
  {
   "cell_type": "markdown",
   "metadata": {
    "id": "dQtt-EKA8P4r"
   },
   "source": [
    "## Question 5: What are your `best_model` validation and test accuracies?(20 points)\n",
    "\n",
    "Run the cell below to see the results of your best of model and save your model's predictions to a file named *ogbn-arxiv_node.csv*. \n",
    "\n",
    "You can view this file by clicking on the *Folder* icon on the left side pannel. As in Colab 1, when you sumbit your assignment, you will have to download this file and attatch it to your submission."
   ]
  },
  {
   "cell_type": "code",
   "metadata": {
    "id": "EqcextqOL2FX"
   },
   "source": [
    "if 'IS_GRADESCOPE_ENV' not in os.environ:\n",
    "    best_result = test(best_model, data, split_idx, evaluator, save_model_results=True)\n",
    "    train_acc, valid_acc, test_acc = best_result\n",
    "    print(f'Best model: '\n",
    "          f'Train: {100 * train_acc:.2f}%, '\n",
    "          f'Valid: {100 * valid_acc:.2f}% '\n",
    "          f'Test: {100 * test_acc:.2f}%')"
   ],
   "execution_count": 273,
   "outputs": [
    {
     "name": "stdout",
     "output_type": "stream",
     "text": [
      "Saving Model Predictions\n",
      "Best model: Train: 72.48%, Valid: 70.93% Test: 70.23%\n"
     ]
    }
   ]
  },
  {
   "cell_type": "markdown",
   "metadata": {
    "id": "R8pOD6y80TyI"
   },
   "source": [
    "# 4) GNN: Graph Property Prediction\n",
    "\n",
    "In this section we will create a graph neural network for graph property prediction (graph classification).\n"
   ]
  },
  {
   "cell_type": "markdown",
   "metadata": {
    "id": "vRg5VOEdQTa4"
   },
   "source": [
    "## Load and preprocess the dataset"
   ]
  },
  {
   "cell_type": "code",
   "metadata": {
    "id": "LXb-O5QUIgTH"
   },
   "source": [
    "from ogb.graphproppred import PygGraphPropPredDataset, Evaluator\n",
    "from torch_geometric.data import DataLoader\n",
    "from tqdm.notebook import tqdm\n",
    "\n",
    "if 'IS_GRADESCOPE_ENV' not in os.environ:\n",
    "    # Load the dataset\n",
    "    dataset = PygGraphPropPredDataset(name='ogbg-molhiv')\n",
    "\n",
    "    device = 'cuda' if torch.cuda.is_available() else 'cpu'\n",
    "    print('Device: {}'.format(device))\n",
    "\n",
    "    split_idx = dataset.get_idx_split()\n",
    "\n",
    "    # Check task type\n",
    "    print('Task type: {}'.format(dataset.task_type))"
   ],
   "execution_count": 274,
   "outputs": [
    {
     "name": "stdout",
     "output_type": "stream",
     "text": [
      "Device: cuda\n",
      "Task type: binary classification\n"
     ]
    }
   ]
  },
  {
   "cell_type": "code",
   "metadata": {
    "id": "7cHHbgW1c5hi"
   },
   "source": [
    "# Load the dataset splits into corresponding dataloaders\n",
    "# We will train the graph classification task on a batch of 32 graphs\n",
    "# Shuffle the order of graphs for training set\n",
    "if 'IS_GRADESCOPE_ENV' not in os.environ:\n",
    "    train_loader = DataLoader(dataset[split_idx[\"train\"]], batch_size=32, shuffle=True, num_workers=0)\n",
    "    valid_loader = DataLoader(dataset[split_idx[\"valid\"]], batch_size=32, shuffle=False, num_workers=0)\n",
    "    test_loader = DataLoader(dataset[split_idx[\"test\"]], batch_size=32, shuffle=False, num_workers=0)"
   ],
   "execution_count": 275,
   "outputs": [
    {
     "name": "stderr",
     "output_type": "stream",
     "text": [
      "D:\\anaconda3\\envs\\pytorch\\lib\\site-packages\\torch_geometric\\deprecation.py:22: UserWarning: 'data.DataLoader' is deprecated, use 'loader.DataLoader' instead\n",
      "  warnings.warn(out)\n"
     ]
    }
   ]
  },
  {
   "cell_type": "code",
   "metadata": {
    "id": "AYrSnOj0Y4DK"
   },
   "source": [
    "if 'IS_GRADESCOPE_ENV' not in os.environ:\n",
    "    # Please do not change the args\n",
    "    args = {\n",
    "        'device': device,\n",
    "        'num_layers': 5,\n",
    "        'hidden_dim': 256,\n",
    "        'dropout': 0.5,\n",
    "        'lr': 0.001,\n",
    "        'epochs': 30,\n",
    "    }\n",
    "    args"
   ],
   "execution_count": 276,
   "outputs": []
  },
  {
   "cell_type": "markdown",
   "metadata": {
    "id": "7WLhguSTeazy"
   },
   "source": [
    "## Graph Prediction Model"
   ]
  },
  {
   "cell_type": "markdown",
   "metadata": {
    "id": "u05Z14TRYPGn"
   },
   "source": [
    "### Graph Mini-Batching\n",
    "Before diving into the actual model, we introduce the concept of mini-batching with graphs. In order to parallelize the processing of a mini-batch of graphs, PyG combines the graphs into a single disconnected graph data object (*torch_geometric.data.Ba tch*). *torch_geometric.data.Batch* inherits from *torch_geometric.data.Data* (introduced earlier) and contains an additional attribute called `batch`.\n",
    "\n",
    "The `batch` attribute is a vector mapping each node to the index of its corresponding graph within the mini-batch:\n",
    "\n",
    "    batch = [0, ..., 0, 1, ..., n - 2, n - 1, ..., n - 1]\n",
    "\n",
    "This attribute is crucial for associating which graph each node belongs to and can be used to e.g. average the node embeddings for each graph individually to compute graph level embeddings. \n",
    "\n"
   ]
  },
  {
   "cell_type": "markdown",
   "metadata": {
    "id": "Pcic9NNU3nGK"
   },
   "source": [
    "### Implemention\n",
    "Now, we have all of the tools to implement a GCN Graph Prediction model!  \n",
    "\n",
    "We will reuse the existing GCN model to generate `node_embeddings` and then use  `Global Pooling` over the nodes to create graph level embeddings that can be used to predict properties for the each graph. Remeber that the `batch` attribute will be essential for performining Global Pooling over our mini-batch of graphs."
   ]
  },
  {
   "cell_type": "code",
   "execution_count": 277,
   "outputs": [
    {
     "data": {
      "text/plain": "tensor([[1.0000, 2.0000, 3.0000],\n        [5.5000, 6.5000, 7.5000]])"
     },
     "execution_count": 277,
     "metadata": {},
     "output_type": "execute_result"
    }
   ],
   "source": [
    "from torch_geometric.nn import global_mean_pool\n",
    "global_mean_pool(torch.arange(1,10).reshape(3,3), torch.tensor([0,1,1]))"
   ],
   "metadata": {
    "collapsed": false
   }
  },
  {
   "cell_type": "code",
   "metadata": {
    "id": "3_Kq3zyjeZ22"
   },
   "source": [
    "from ogb.graphproppred.mol_encoder import AtomEncoder\n",
    "from torch_geometric.nn import global_add_pool, global_mean_pool\n",
    "\n",
    "\n",
    "### GCN to predict graph property\n",
    "class GCN_Graph(torch.nn.Module):\n",
    "    def __init__(self, hidden_dim, output_dim, num_layers, dropout):\n",
    "        super(GCN_Graph, self).__init__()\n",
    "\n",
    "        # Load encoders for Atoms in molecule graphs\n",
    "        self.node_encoder = AtomEncoder(hidden_dim)\n",
    "\n",
    "        # Node embedding model\n",
    "        # Note that the input_dim and output_dim are set to hidden_dim\n",
    "        self.gnn_node = GCN(hidden_dim, hidden_dim,\n",
    "                            hidden_dim, num_layers, dropout, return_embeds=True)\n",
    "\n",
    "        self.pool = None\n",
    "\n",
    "        ############# Your code here ############\n",
    "        ## Note:\n",
    "        ## 1. Initialize self.pool as a global mean pooling layer\n",
    "        ## For more information please refer to the documentation:\n",
    "        ## https://pytorch-geometric.readthedocs.io/en/latest/modules/nn.html#global-pooling-layers\n",
    "        self.pool = global_mean_pool\n",
    "\n",
    "        #########################################\n",
    "\n",
    "        # Output layer\n",
    "        self.linear = torch.nn.Linear(hidden_dim, output_dim)\n",
    "\n",
    "    def reset_parameters(self):\n",
    "        self.gnn_node.reset_parameters()\n",
    "        self.linear.reset_parameters()\n",
    "\n",
    "    def forward(self, batched_data):\n",
    "        # TODO: Implement a function that takes as input a \n",
    "        # mini-batch of graphs (torch_geometric.data.Batch) and \n",
    "        # returns the predicted graph property for each graph. \n",
    "        #\n",
    "        # NOTE: Since we are predicting graph level properties,\n",
    "        # your output will be a tensor with dimension equaling\n",
    "        # the number of graphs in the mini-batch\n",
    "\n",
    "        # Extract important attributes of our mini-batch\n",
    "        x, edge_index, batch = batched_data.x, batched_data.edge_index, batched_data.batch\n",
    "        # print(f\"batch: {batch}\")\n",
    "        embed = self.node_encoder(x)\n",
    "\n",
    "        out = None\n",
    "\n",
    "        ############# Your code here ############\n",
    "        ## Note:\n",
    "        ## 1. Construct node embeddings using existing GCN model\n",
    "        ## 2. Use the global pooling layer to aggregate features for each individual graph\n",
    "        ## For more information please refer to the documentation:\n",
    "        ## https://pytorch-geometric.readthedocs.io/en/latest/modules/nn.html#global-pooling-layers\n",
    "        ## 3. Use a linear layer to predict each graph's property\n",
    "        ## (~3 lines of code)\n",
    "        out = self.linear(self.pool(self.gnn_node(embed,edge_index),batch))\n",
    "\n",
    "        #########################################\n",
    "\n",
    "        return out"
   ],
   "execution_count": 278,
   "outputs": []
  },
  {
   "cell_type": "code",
   "metadata": {
    "id": "FJjnGuMSbjX0"
   },
   "source": [
    "def train(model, device, data_loader, optimizer, loss_fn):\n",
    "    # TODO: Implement a function that trains your model by \n",
    "    # using the given optimizer and loss_fn.\n",
    "    model.train()\n",
    "    loss = 0\n",
    "\n",
    "    for step, batch in enumerate(tqdm(data_loader, desc=\"Iteration\")):\n",
    "        batch = batch.to(device)\n",
    "\n",
    "        if batch.x.shape[0] == 1 or batch.batch[-1] == 0:\n",
    "            pass\n",
    "        else:\n",
    "            ## ignore nan targets (unlabeled) when computing training loss.\n",
    "            is_labeled = batch.y == batch.y\n",
    "\n",
    "            ############# Your code here ############\n",
    "            ## Note:\n",
    "            ## 1. Zero grad the optimizer\n",
    "            ## 2. Feed the data into the model\n",
    "            ## 3. Use `is_labeled` mask to filter output and labels\n",
    "            ## 4. You may need to change the type of label to torch.float32\n",
    "            ## 5. Feed the output and label to the loss_fn\n",
    "            ## (~3 lines of code)\n",
    "            optimizer.zero_grad()\n",
    "            pred = model(batch)\n",
    "            # print(f\"pred:{pred[is_labeled].shape}, batch:{len(batch[is_labeled])}\")\n",
    "            loss = loss_fn(pred[is_labeled], batch.y[is_labeled].float())\n",
    "\n",
    "\n",
    "            ####################################\n",
    "            # #####\n",
    "\n",
    "            loss.backward()\n",
    "            optimizer.step()\n",
    "            break\n",
    "\n",
    "    return loss.item()"
   ],
   "execution_count": 283,
   "outputs": []
  },
  {
   "cell_type": "code",
   "metadata": {
    "id": "ztPHXq_Gzn7U"
   },
   "source": [
    "# The evaluation function\n",
    "def eval(model, device, loader, evaluator, save_model_results=False, save_file=None):\n",
    "    model.eval()\n",
    "    y_true = []\n",
    "    y_pred = []\n",
    "\n",
    "    for step, batch in enumerate(tqdm(loader, desc=\"Iteration\")):\n",
    "        batch = batch.to(device)\n",
    "\n",
    "        if batch.x.shape[0] == 1:\n",
    "            pass\n",
    "        else:\n",
    "            with torch.no_grad():\n",
    "                pred = model(batch)\n",
    "\n",
    "            y_true.append(batch.y.view(pred.shape).detach().cpu())\n",
    "            y_pred.append(pred.detach().cpu())\n",
    "\n",
    "    y_true = torch.cat(y_true, dim=0).numpy()\n",
    "    y_pred = torch.cat(y_pred, dim=0).numpy()\n",
    "\n",
    "    input_dict = {\"y_true\": y_true, \"y_pred\": y_pred}\n",
    "\n",
    "    if save_model_results:\n",
    "        print(\"Saving Model Predictions\")\n",
    "\n",
    "        # Create a pandas dataframe with a two columns\n",
    "        # y_pred | y_true\n",
    "        data = {}\n",
    "        data['y_pred'] = y_pred.reshape(-1)\n",
    "        data['y_true'] = y_true.reshape(-1)\n",
    "\n",
    "        df = pd.DataFrame(data=data)\n",
    "        # Save to csv\n",
    "        df.to_csv('ogbg-molhiv_graph_' + save_file + '.csv', sep=',', index=False)\n",
    "\n",
    "    return evaluator.eval(input_dict)"
   ],
   "execution_count": 284,
   "outputs": []
  },
  {
   "cell_type": "code",
   "metadata": {
    "id": "MR1wQ4hMZeMw"
   },
   "source": [
    "if 'IS_GRADESCOPE_ENV' not in os.environ:\n",
    "    model = GCN_Graph(args['hidden_dim'],\n",
    "                      dataset.num_tasks, args['num_layers'],\n",
    "                      args['dropout']).to(device)\n",
    "    evaluator = Evaluator(name='ogbg-molhiv')"
   ],
   "execution_count": 285,
   "outputs": []
  },
  {
   "cell_type": "code",
   "metadata": {
    "id": "qJGTNZiuZy0A"
   },
   "source": [
    "import copy\n",
    "\n",
    "if 'IS_GRADESCOPE_ENV' not in os.environ:\n",
    "    model.reset_parameters()\n",
    "\n",
    "    optimizer = torch.optim.Adam(model.parameters(), lr=args['lr'])\n",
    "    loss_fn = torch.nn.BCEWithLogitsLoss()\n",
    "\n",
    "    best_model = None\n",
    "    best_valid_acc = 0\n",
    "\n",
    "    for epoch in range(1, 1 + args[\"epochs\"]):\n",
    "        print('Training...')\n",
    "        loss = train(model, device, train_loader, optimizer, loss_fn)\n",
    "\n",
    "        print('Evaluating...')\n",
    "        train_result = eval(model, device, train_loader, evaluator)\n",
    "        val_result = eval(model, device, valid_loader, evaluator)\n",
    "        test_result = eval(model, device, test_loader, evaluator)\n",
    "\n",
    "        train_acc, valid_acc, test_acc = train_result[dataset.eval_metric], val_result[dataset.eval_metric], \\\n",
    "        test_result[dataset.eval_metric]\n",
    "        if valid_acc > best_valid_acc:\n",
    "            best_valid_acc = valid_acc\n",
    "            best_model = copy.deepcopy(model)\n",
    "        print(f'Epoch: {epoch:02d}, '\n",
    "              f'Loss: {loss:.4f}, '\n",
    "              f'Train: {100 * train_acc:.2f}%, '\n",
    "              f'Valid: {100 * valid_acc:.2f}% '\n",
    "              f'Test: {100 * test_acc:.2f}%')"
   ],
   "execution_count": 286,
   "outputs": [
    {
     "name": "stdout",
     "output_type": "stream",
     "text": [
      "Training...\n"
     ]
    },
    {
     "data": {
      "text/plain": "Iteration:   0%|          | 0/1029 [00:00<?, ?it/s]",
      "application/vnd.jupyter.widget-view+json": {
       "version_major": 2,
       "version_minor": 0,
       "model_id": "63d0e72aac6f4666804c8170167cb7cc"
      }
     },
     "metadata": {},
     "output_type": "display_data"
    },
    {
     "name": "stdout",
     "output_type": "stream",
     "text": [
      "Evaluating...\n"
     ]
    },
    {
     "data": {
      "text/plain": "Iteration:   0%|          | 0/1029 [00:00<?, ?it/s]",
      "application/vnd.jupyter.widget-view+json": {
       "version_major": 2,
       "version_minor": 0,
       "model_id": "ef5c7cc65c554561a45086bb3e8b928d"
      }
     },
     "metadata": {},
     "output_type": "display_data"
    },
    {
     "data": {
      "text/plain": "Iteration:   0%|          | 0/129 [00:00<?, ?it/s]",
      "application/vnd.jupyter.widget-view+json": {
       "version_major": 2,
       "version_minor": 0,
       "model_id": "175ad09ca64f47a7a9d34998aa46402c"
      }
     },
     "metadata": {},
     "output_type": "display_data"
    },
    {
     "data": {
      "text/plain": "Iteration:   0%|          | 0/129 [00:00<?, ?it/s]",
      "application/vnd.jupyter.widget-view+json": {
       "version_major": 2,
       "version_minor": 0,
       "model_id": "09cf37321c984cfbba25297318317d23"
      }
     },
     "metadata": {},
     "output_type": "display_data"
    },
    {
     "name": "stdout",
     "output_type": "stream",
     "text": [
      "Epoch: 01, Loss: 0.5833, Train: 55.19%, Valid: 56.10% Test: 56.73%\n",
      "Training...\n"
     ]
    },
    {
     "data": {
      "text/plain": "Iteration:   0%|          | 0/1029 [00:00<?, ?it/s]",
      "application/vnd.jupyter.widget-view+json": {
       "version_major": 2,
       "version_minor": 0,
       "model_id": "6dcac97531a9405fb2320d5d3eace4f9"
      }
     },
     "metadata": {},
     "output_type": "display_data"
    },
    {
     "name": "stdout",
     "output_type": "stream",
     "text": [
      "Evaluating...\n"
     ]
    },
    {
     "data": {
      "text/plain": "Iteration:   0%|          | 0/1029 [00:00<?, ?it/s]",
      "application/vnd.jupyter.widget-view+json": {
       "version_major": 2,
       "version_minor": 0,
       "model_id": "e0d7c5a54ed44b848fe1fd6817d8fe1a"
      }
     },
     "metadata": {},
     "output_type": "display_data"
    },
    {
     "data": {
      "text/plain": "Iteration:   0%|          | 0/129 [00:00<?, ?it/s]",
      "application/vnd.jupyter.widget-view+json": {
       "version_major": 2,
       "version_minor": 0,
       "model_id": "82d83d034aeb4f8493240fcd0c62a06c"
      }
     },
     "metadata": {},
     "output_type": "display_data"
    },
    {
     "data": {
      "text/plain": "Iteration:   0%|          | 0/129 [00:00<?, ?it/s]",
      "application/vnd.jupyter.widget-view+json": {
       "version_major": 2,
       "version_minor": 0,
       "model_id": "234d13451bb34710920f14d4f958bca0"
      }
     },
     "metadata": {},
     "output_type": "display_data"
    },
    {
     "name": "stdout",
     "output_type": "stream",
     "text": [
      "Epoch: 02, Loss: 0.2925, Train: 54.65%, Valid: 64.22% Test: 59.49%\n",
      "Training...\n"
     ]
    },
    {
     "data": {
      "text/plain": "Iteration:   0%|          | 0/1029 [00:00<?, ?it/s]",
      "application/vnd.jupyter.widget-view+json": {
       "version_major": 2,
       "version_minor": 0,
       "model_id": "fb13ef95881543f68eebd137cdc19b1d"
      }
     },
     "metadata": {},
     "output_type": "display_data"
    },
    {
     "name": "stdout",
     "output_type": "stream",
     "text": [
      "Evaluating...\n"
     ]
    },
    {
     "data": {
      "text/plain": "Iteration:   0%|          | 0/1029 [00:00<?, ?it/s]",
      "application/vnd.jupyter.widget-view+json": {
       "version_major": 2,
       "version_minor": 0,
       "model_id": "f8003c3ca41f4ffd922ae8bee66689be"
      }
     },
     "metadata": {},
     "output_type": "display_data"
    },
    {
     "data": {
      "text/plain": "Iteration:   0%|          | 0/129 [00:00<?, ?it/s]",
      "application/vnd.jupyter.widget-view+json": {
       "version_major": 2,
       "version_minor": 0,
       "model_id": "219f91922c914d34b70e8068c3fee905"
      }
     },
     "metadata": {},
     "output_type": "display_data"
    },
    {
     "data": {
      "text/plain": "Iteration:   0%|          | 0/129 [00:00<?, ?it/s]",
      "application/vnd.jupyter.widget-view+json": {
       "version_major": 2,
       "version_minor": 0,
       "model_id": "cad6f7c5359845e0a483c191acb4d3c5"
      }
     },
     "metadata": {},
     "output_type": "display_data"
    },
    {
     "name": "stdout",
     "output_type": "stream",
     "text": [
      "Epoch: 03, Loss: 0.2289, Train: 50.90%, Valid: 55.97% Test: 47.33%\n",
      "Training...\n"
     ]
    },
    {
     "data": {
      "text/plain": "Iteration:   0%|          | 0/1029 [00:00<?, ?it/s]",
      "application/vnd.jupyter.widget-view+json": {
       "version_major": 2,
       "version_minor": 0,
       "model_id": "466ef8674fc3411aae4ff86e9a09ef1f"
      }
     },
     "metadata": {},
     "output_type": "display_data"
    },
    {
     "name": "stdout",
     "output_type": "stream",
     "text": [
      "Evaluating...\n"
     ]
    },
    {
     "data": {
      "text/plain": "Iteration:   0%|          | 0/1029 [00:00<?, ?it/s]",
      "application/vnd.jupyter.widget-view+json": {
       "version_major": 2,
       "version_minor": 0,
       "model_id": "e1bb49945776482eb6786e6e7bf18b8a"
      }
     },
     "metadata": {},
     "output_type": "display_data"
    },
    {
     "data": {
      "text/plain": "Iteration:   0%|          | 0/129 [00:00<?, ?it/s]",
      "application/vnd.jupyter.widget-view+json": {
       "version_major": 2,
       "version_minor": 0,
       "model_id": "cf587bc8c18f4e56afbfcc585fe24afe"
      }
     },
     "metadata": {},
     "output_type": "display_data"
    },
    {
     "data": {
      "text/plain": "Iteration:   0%|          | 0/129 [00:00<?, ?it/s]",
      "application/vnd.jupyter.widget-view+json": {
       "version_major": 2,
       "version_minor": 0,
       "model_id": "8dbddf4fe6bd4c139e352ee32d1a1e6d"
      }
     },
     "metadata": {},
     "output_type": "display_data"
    },
    {
     "name": "stdout",
     "output_type": "stream",
     "text": [
      "Epoch: 04, Loss: 0.2333, Train: 49.54%, Valid: 52.45% Test: 44.61%\n",
      "Training...\n"
     ]
    },
    {
     "data": {
      "text/plain": "Iteration:   0%|          | 0/1029 [00:00<?, ?it/s]",
      "application/vnd.jupyter.widget-view+json": {
       "version_major": 2,
       "version_minor": 0,
       "model_id": "10bd025478fc48f190de35a3e69ae980"
      }
     },
     "metadata": {},
     "output_type": "display_data"
    },
    {
     "name": "stdout",
     "output_type": "stream",
     "text": [
      "Evaluating...\n"
     ]
    },
    {
     "data": {
      "text/plain": "Iteration:   0%|          | 0/1029 [00:00<?, ?it/s]",
      "application/vnd.jupyter.widget-view+json": {
       "version_major": 2,
       "version_minor": 0,
       "model_id": "b68d7512ed2e404290a1e02a2385edc9"
      }
     },
     "metadata": {},
     "output_type": "display_data"
    },
    {
     "data": {
      "text/plain": "Iteration:   0%|          | 0/129 [00:00<?, ?it/s]",
      "application/vnd.jupyter.widget-view+json": {
       "version_major": 2,
       "version_minor": 0,
       "model_id": "b4e08f30d126464093508f40d6028a66"
      }
     },
     "metadata": {},
     "output_type": "display_data"
    },
    {
     "data": {
      "text/plain": "Iteration:   0%|          | 0/129 [00:00<?, ?it/s]",
      "application/vnd.jupyter.widget-view+json": {
       "version_major": 2,
       "version_minor": 0,
       "model_id": "6de2dbfe11a24d7b9580aca5bdbac5c2"
      }
     },
     "metadata": {},
     "output_type": "display_data"
    },
    {
     "name": "stdout",
     "output_type": "stream",
     "text": [
      "Epoch: 05, Loss: 0.1454, Train: 49.22%, Valid: 51.31% Test: 43.70%\n",
      "Training...\n"
     ]
    },
    {
     "data": {
      "text/plain": "Iteration:   0%|          | 0/1029 [00:00<?, ?it/s]",
      "application/vnd.jupyter.widget-view+json": {
       "version_major": 2,
       "version_minor": 0,
       "model_id": "02b9469677f643419aa894e4c6000be8"
      }
     },
     "metadata": {},
     "output_type": "display_data"
    },
    {
     "name": "stdout",
     "output_type": "stream",
     "text": [
      "Evaluating...\n"
     ]
    },
    {
     "data": {
      "text/plain": "Iteration:   0%|          | 0/1029 [00:00<?, ?it/s]",
      "application/vnd.jupyter.widget-view+json": {
       "version_major": 2,
       "version_minor": 0,
       "model_id": "17b59c73ad7a45eb96f244054aee5525"
      }
     },
     "metadata": {},
     "output_type": "display_data"
    },
    {
     "data": {
      "text/plain": "Iteration:   0%|          | 0/129 [00:00<?, ?it/s]",
      "application/vnd.jupyter.widget-view+json": {
       "version_major": 2,
       "version_minor": 0,
       "model_id": "617c5c9f9a484b73a443e3931be3c7ea"
      }
     },
     "metadata": {},
     "output_type": "display_data"
    },
    {
     "data": {
      "text/plain": "Iteration:   0%|          | 0/129 [00:00<?, ?it/s]",
      "application/vnd.jupyter.widget-view+json": {
       "version_major": 2,
       "version_minor": 0,
       "model_id": "eaa90965190d4630a49148001698997b"
      }
     },
     "metadata": {},
     "output_type": "display_data"
    },
    {
     "name": "stdout",
     "output_type": "stream",
     "text": [
      "Epoch: 06, Loss: 0.1679, Train: 49.43%, Valid: 51.37% Test: 43.87%\n",
      "Training...\n"
     ]
    },
    {
     "data": {
      "text/plain": "Iteration:   0%|          | 0/1029 [00:00<?, ?it/s]",
      "application/vnd.jupyter.widget-view+json": {
       "version_major": 2,
       "version_minor": 0,
       "model_id": "94b767f9a94f475c8e766c071aa4207a"
      }
     },
     "metadata": {},
     "output_type": "display_data"
    },
    {
     "name": "stdout",
     "output_type": "stream",
     "text": [
      "Evaluating...\n"
     ]
    },
    {
     "data": {
      "text/plain": "Iteration:   0%|          | 0/1029 [00:00<?, ?it/s]",
      "application/vnd.jupyter.widget-view+json": {
       "version_major": 2,
       "version_minor": 0,
       "model_id": "2d346a28335d43e5805e90c4913dab25"
      }
     },
     "metadata": {},
     "output_type": "display_data"
    },
    {
     "data": {
      "text/plain": "Iteration:   0%|          | 0/129 [00:00<?, ?it/s]",
      "application/vnd.jupyter.widget-view+json": {
       "version_major": 2,
       "version_minor": 0,
       "model_id": "767e3be78fa7446fb22c7a956459e19d"
      }
     },
     "metadata": {},
     "output_type": "display_data"
    },
    {
     "data": {
      "text/plain": "Iteration:   0%|          | 0/129 [00:00<?, ?it/s]",
      "application/vnd.jupyter.widget-view+json": {
       "version_major": 2,
       "version_minor": 0,
       "model_id": "9849753552a5439b97b0cee1afff0261"
      }
     },
     "metadata": {},
     "output_type": "display_data"
    },
    {
     "name": "stdout",
     "output_type": "stream",
     "text": [
      "Epoch: 07, Loss: 0.1306, Train: 49.48%, Valid: 51.31% Test: 43.84%\n",
      "Training...\n"
     ]
    },
    {
     "data": {
      "text/plain": "Iteration:   0%|          | 0/1029 [00:00<?, ?it/s]",
      "application/vnd.jupyter.widget-view+json": {
       "version_major": 2,
       "version_minor": 0,
       "model_id": "aa438e446d4e46eb89426ba0906dfbae"
      }
     },
     "metadata": {},
     "output_type": "display_data"
    },
    {
     "name": "stdout",
     "output_type": "stream",
     "text": [
      "Evaluating...\n"
     ]
    },
    {
     "data": {
      "text/plain": "Iteration:   0%|          | 0/1029 [00:00<?, ?it/s]",
      "application/vnd.jupyter.widget-view+json": {
       "version_major": 2,
       "version_minor": 0,
       "model_id": "cf37d2aa977b4cc38181c28cc7b1101f"
      }
     },
     "metadata": {},
     "output_type": "display_data"
    },
    {
     "data": {
      "text/plain": "Iteration:   0%|          | 0/129 [00:00<?, ?it/s]",
      "application/vnd.jupyter.widget-view+json": {
       "version_major": 2,
       "version_minor": 0,
       "model_id": "4abccf8b52854273a5fd194eb3b52827"
      }
     },
     "metadata": {},
     "output_type": "display_data"
    },
    {
     "data": {
      "text/plain": "Iteration:   0%|          | 0/129 [00:00<?, ?it/s]",
      "application/vnd.jupyter.widget-view+json": {
       "version_major": 2,
       "version_minor": 0,
       "model_id": "1fbe162a55664b2dbae9c42707400d32"
      }
     },
     "metadata": {},
     "output_type": "display_data"
    },
    {
     "name": "stdout",
     "output_type": "stream",
     "text": [
      "Epoch: 08, Loss: 0.1827, Train: 49.49%, Valid: 51.31% Test: 43.84%\n",
      "Training...\n"
     ]
    },
    {
     "data": {
      "text/plain": "Iteration:   0%|          | 0/1029 [00:00<?, ?it/s]",
      "application/vnd.jupyter.widget-view+json": {
       "version_major": 2,
       "version_minor": 0,
       "model_id": "24792c3970fc4bd4b92a3ee9e41582f2"
      }
     },
     "metadata": {},
     "output_type": "display_data"
    },
    {
     "name": "stdout",
     "output_type": "stream",
     "text": [
      "Evaluating...\n"
     ]
    },
    {
     "data": {
      "text/plain": "Iteration:   0%|          | 0/1029 [00:00<?, ?it/s]",
      "application/vnd.jupyter.widget-view+json": {
       "version_major": 2,
       "version_minor": 0,
       "model_id": "8d6f7ac8f76548a7bff029c819f68182"
      }
     },
     "metadata": {},
     "output_type": "display_data"
    },
    {
     "data": {
      "text/plain": "Iteration:   0%|          | 0/129 [00:00<?, ?it/s]",
      "application/vnd.jupyter.widget-view+json": {
       "version_major": 2,
       "version_minor": 0,
       "model_id": "4de34f9e160641e2a173246b6a2277c4"
      }
     },
     "metadata": {},
     "output_type": "display_data"
    },
    {
     "data": {
      "text/plain": "Iteration:   0%|          | 0/129 [00:00<?, ?it/s]",
      "application/vnd.jupyter.widget-view+json": {
       "version_major": 2,
       "version_minor": 0,
       "model_id": "64deec1238dd49af8b739bce1c695396"
      }
     },
     "metadata": {},
     "output_type": "display_data"
    },
    {
     "name": "stdout",
     "output_type": "stream",
     "text": [
      "Epoch: 09, Loss: 0.1905, Train: 49.38%, Valid: 51.27% Test: 43.81%\n",
      "Training...\n"
     ]
    },
    {
     "data": {
      "text/plain": "Iteration:   0%|          | 0/1029 [00:00<?, ?it/s]",
      "application/vnd.jupyter.widget-view+json": {
       "version_major": 2,
       "version_minor": 0,
       "model_id": "2dd10681af844b28b7ead414a9295b4a"
      }
     },
     "metadata": {},
     "output_type": "display_data"
    },
    {
     "name": "stdout",
     "output_type": "stream",
     "text": [
      "Evaluating...\n"
     ]
    },
    {
     "data": {
      "text/plain": "Iteration:   0%|          | 0/1029 [00:00<?, ?it/s]",
      "application/vnd.jupyter.widget-view+json": {
       "version_major": 2,
       "version_minor": 0,
       "model_id": "ad7fb39e4802426cbec642027a7297a9"
      }
     },
     "metadata": {},
     "output_type": "display_data"
    },
    {
     "data": {
      "text/plain": "Iteration:   0%|          | 0/129 [00:00<?, ?it/s]",
      "application/vnd.jupyter.widget-view+json": {
       "version_major": 2,
       "version_minor": 0,
       "model_id": "1d19881211274ecca3b3157a682860d9"
      }
     },
     "metadata": {},
     "output_type": "display_data"
    },
    {
     "data": {
      "text/plain": "Iteration:   0%|          | 0/129 [00:00<?, ?it/s]",
      "application/vnd.jupyter.widget-view+json": {
       "version_major": 2,
       "version_minor": 0,
       "model_id": "e591d473f2174dd89606b49eb7a1d29c"
      }
     },
     "metadata": {},
     "output_type": "display_data"
    },
    {
     "name": "stdout",
     "output_type": "stream",
     "text": [
      "Epoch: 10, Loss: 0.1439, Train: 49.22%, Valid: 51.08% Test: 43.72%\n",
      "Training...\n"
     ]
    },
    {
     "data": {
      "text/plain": "Iteration:   0%|          | 0/1029 [00:00<?, ?it/s]",
      "application/vnd.jupyter.widget-view+json": {
       "version_major": 2,
       "version_minor": 0,
       "model_id": "3bd846219c354e66861c733512b405a1"
      }
     },
     "metadata": {},
     "output_type": "display_data"
    },
    {
     "name": "stdout",
     "output_type": "stream",
     "text": [
      "Evaluating...\n"
     ]
    },
    {
     "data": {
      "text/plain": "Iteration:   0%|          | 0/1029 [00:00<?, ?it/s]",
      "application/vnd.jupyter.widget-view+json": {
       "version_major": 2,
       "version_minor": 0,
       "model_id": "1aca33ba7b38484ab32e9a13ffccde0a"
      }
     },
     "metadata": {},
     "output_type": "display_data"
    },
    {
     "data": {
      "text/plain": "Iteration:   0%|          | 0/129 [00:00<?, ?it/s]",
      "application/vnd.jupyter.widget-view+json": {
       "version_major": 2,
       "version_minor": 0,
       "model_id": "d20f7828cbed442cb25bfa9955d5579d"
      }
     },
     "metadata": {},
     "output_type": "display_data"
    },
    {
     "data": {
      "text/plain": "Iteration:   0%|          | 0/129 [00:00<?, ?it/s]",
      "application/vnd.jupyter.widget-view+json": {
       "version_major": 2,
       "version_minor": 0,
       "model_id": "811b4a304bc34aa48b96859d2633c825"
      }
     },
     "metadata": {},
     "output_type": "display_data"
    },
    {
     "name": "stdout",
     "output_type": "stream",
     "text": [
      "Epoch: 11, Loss: 0.5407, Train: 49.17%, Valid: 51.12% Test: 43.71%\n",
      "Training...\n"
     ]
    },
    {
     "data": {
      "text/plain": "Iteration:   0%|          | 0/1029 [00:00<?, ?it/s]",
      "application/vnd.jupyter.widget-view+json": {
       "version_major": 2,
       "version_minor": 0,
       "model_id": "f95240d8155b4b7c8a878ecab754559c"
      }
     },
     "metadata": {},
     "output_type": "display_data"
    },
    {
     "name": "stdout",
     "output_type": "stream",
     "text": [
      "Evaluating...\n"
     ]
    },
    {
     "data": {
      "text/plain": "Iteration:   0%|          | 0/1029 [00:00<?, ?it/s]",
      "application/vnd.jupyter.widget-view+json": {
       "version_major": 2,
       "version_minor": 0,
       "model_id": "d097a50885c44d42b1011702e3e41796"
      }
     },
     "metadata": {},
     "output_type": "display_data"
    },
    {
     "data": {
      "text/plain": "Iteration:   0%|          | 0/129 [00:00<?, ?it/s]",
      "application/vnd.jupyter.widget-view+json": {
       "version_major": 2,
       "version_minor": 0,
       "model_id": "2e2a921b2da84012b03ae23f6c7cf331"
      }
     },
     "metadata": {},
     "output_type": "display_data"
    },
    {
     "data": {
      "text/plain": "Iteration:   0%|          | 0/129 [00:00<?, ?it/s]",
      "application/vnd.jupyter.widget-view+json": {
       "version_major": 2,
       "version_minor": 0,
       "model_id": "7b8f2de15d7f4817b3852f17bae14108"
      }
     },
     "metadata": {},
     "output_type": "display_data"
    },
    {
     "name": "stdout",
     "output_type": "stream",
     "text": [
      "Epoch: 12, Loss: 0.3664, Train: 49.33%, Valid: 51.37% Test: 43.85%\n",
      "Training...\n"
     ]
    },
    {
     "data": {
      "text/plain": "Iteration:   0%|          | 0/1029 [00:00<?, ?it/s]",
      "application/vnd.jupyter.widget-view+json": {
       "version_major": 2,
       "version_minor": 0,
       "model_id": "416959083cc04e7789cf2f5d849fb834"
      }
     },
     "metadata": {},
     "output_type": "display_data"
    },
    {
     "name": "stdout",
     "output_type": "stream",
     "text": [
      "Evaluating...\n"
     ]
    },
    {
     "data": {
      "text/plain": "Iteration:   0%|          | 0/1029 [00:00<?, ?it/s]",
      "application/vnd.jupyter.widget-view+json": {
       "version_major": 2,
       "version_minor": 0,
       "model_id": "2631ee24340541dd920106aa7acdaaeb"
      }
     },
     "metadata": {},
     "output_type": "display_data"
    },
    {
     "data": {
      "text/plain": "Iteration:   0%|          | 0/129 [00:00<?, ?it/s]",
      "application/vnd.jupyter.widget-view+json": {
       "version_major": 2,
       "version_minor": 0,
       "model_id": "1d538cf2a4354fe2955b7b73f118a755"
      }
     },
     "metadata": {},
     "output_type": "display_data"
    },
    {
     "data": {
      "text/plain": "Iteration:   0%|          | 0/129 [00:00<?, ?it/s]",
      "application/vnd.jupyter.widget-view+json": {
       "version_major": 2,
       "version_minor": 0,
       "model_id": "6db1ea3ec4354597a565e155e56a9491"
      }
     },
     "metadata": {},
     "output_type": "display_data"
    },
    {
     "name": "stdout",
     "output_type": "stream",
     "text": [
      "Epoch: 13, Loss: 0.0081, Train: 49.53%, Valid: 51.69% Test: 44.04%\n",
      "Training...\n"
     ]
    },
    {
     "data": {
      "text/plain": "Iteration:   0%|          | 0/1029 [00:00<?, ?it/s]",
      "application/vnd.jupyter.widget-view+json": {
       "version_major": 2,
       "version_minor": 0,
       "model_id": "a268db9b174342b6820c30534ce69853"
      }
     },
     "metadata": {},
     "output_type": "display_data"
    },
    {
     "name": "stdout",
     "output_type": "stream",
     "text": [
      "Evaluating...\n"
     ]
    },
    {
     "data": {
      "text/plain": "Iteration:   0%|          | 0/1029 [00:00<?, ?it/s]",
      "application/vnd.jupyter.widget-view+json": {
       "version_major": 2,
       "version_minor": 0,
       "model_id": "fa9ab41a6ceb4afc971bd91c4bb32fae"
      }
     },
     "metadata": {},
     "output_type": "display_data"
    },
    {
     "data": {
      "text/plain": "Iteration:   0%|          | 0/129 [00:00<?, ?it/s]",
      "application/vnd.jupyter.widget-view+json": {
       "version_major": 2,
       "version_minor": 0,
       "model_id": "9a8275f4b38943d29edf9badee5fb632"
      }
     },
     "metadata": {},
     "output_type": "display_data"
    },
    {
     "data": {
      "text/plain": "Iteration:   0%|          | 0/129 [00:00<?, ?it/s]",
      "application/vnd.jupyter.widget-view+json": {
       "version_major": 2,
       "version_minor": 0,
       "model_id": "bd406372f0aa4e0aaa24cfeebb9fa727"
      }
     },
     "metadata": {},
     "output_type": "display_data"
    },
    {
     "name": "stdout",
     "output_type": "stream",
     "text": [
      "Epoch: 14, Loss: 0.1587, Train: 49.71%, Valid: 52.03% Test: 44.19%\n",
      "Training...\n"
     ]
    },
    {
     "data": {
      "text/plain": "Iteration:   0%|          | 0/1029 [00:00<?, ?it/s]",
      "application/vnd.jupyter.widget-view+json": {
       "version_major": 2,
       "version_minor": 0,
       "model_id": "bbeee32ef7454c629bcdd8beb881f935"
      }
     },
     "metadata": {},
     "output_type": "display_data"
    },
    {
     "name": "stdout",
     "output_type": "stream",
     "text": [
      "Evaluating...\n"
     ]
    },
    {
     "data": {
      "text/plain": "Iteration:   0%|          | 0/1029 [00:00<?, ?it/s]",
      "application/vnd.jupyter.widget-view+json": {
       "version_major": 2,
       "version_minor": 0,
       "model_id": "db8fd3cbaaca4a6cada6361ccd6cc685"
      }
     },
     "metadata": {},
     "output_type": "display_data"
    },
    {
     "data": {
      "text/plain": "Iteration:   0%|          | 0/129 [00:00<?, ?it/s]",
      "application/vnd.jupyter.widget-view+json": {
       "version_major": 2,
       "version_minor": 0,
       "model_id": "443685a3858a41339e97788af695a6e7"
      }
     },
     "metadata": {},
     "output_type": "display_data"
    },
    {
     "data": {
      "text/plain": "Iteration:   0%|          | 0/129 [00:00<?, ?it/s]",
      "application/vnd.jupyter.widget-view+json": {
       "version_major": 2,
       "version_minor": 0,
       "model_id": "880bc1ddc34a4bd29f92b060a93871f8"
      }
     },
     "metadata": {},
     "output_type": "display_data"
    },
    {
     "name": "stdout",
     "output_type": "stream",
     "text": [
      "Epoch: 15, Loss: 0.1303, Train: 49.82%, Valid: 52.21% Test: 44.24%\n",
      "Training...\n"
     ]
    },
    {
     "data": {
      "text/plain": "Iteration:   0%|          | 0/1029 [00:00<?, ?it/s]",
      "application/vnd.jupyter.widget-view+json": {
       "version_major": 2,
       "version_minor": 0,
       "model_id": "6e9c84b29fba43e3a17de3cf779a5966"
      }
     },
     "metadata": {},
     "output_type": "display_data"
    },
    {
     "name": "stdout",
     "output_type": "stream",
     "text": [
      "Evaluating...\n"
     ]
    },
    {
     "data": {
      "text/plain": "Iteration:   0%|          | 0/1029 [00:00<?, ?it/s]",
      "application/vnd.jupyter.widget-view+json": {
       "version_major": 2,
       "version_minor": 0,
       "model_id": "ef2ac98d80a04eeeb0b4a02d89d3207d"
      }
     },
     "metadata": {},
     "output_type": "display_data"
    },
    {
     "data": {
      "text/plain": "Iteration:   0%|          | 0/129 [00:00<?, ?it/s]",
      "application/vnd.jupyter.widget-view+json": {
       "version_major": 2,
       "version_minor": 0,
       "model_id": "19399fd829f54c55b608dccacc170718"
      }
     },
     "metadata": {},
     "output_type": "display_data"
    },
    {
     "data": {
      "text/plain": "Iteration:   0%|          | 0/129 [00:00<?, ?it/s]",
      "application/vnd.jupyter.widget-view+json": {
       "version_major": 2,
       "version_minor": 0,
       "model_id": "316c6c2d0ff94f0390f25050c0665752"
      }
     },
     "metadata": {},
     "output_type": "display_data"
    },
    {
     "name": "stdout",
     "output_type": "stream",
     "text": [
      "Epoch: 16, Loss: 0.2058, Train: 49.87%, Valid: 52.16% Test: 44.21%\n",
      "Training...\n"
     ]
    },
    {
     "data": {
      "text/plain": "Iteration:   0%|          | 0/1029 [00:00<?, ?it/s]",
      "application/vnd.jupyter.widget-view+json": {
       "version_major": 2,
       "version_minor": 0,
       "model_id": "2172c453b4264e25907a35a6261cf712"
      }
     },
     "metadata": {},
     "output_type": "display_data"
    },
    {
     "name": "stdout",
     "output_type": "stream",
     "text": [
      "Evaluating...\n"
     ]
    },
    {
     "data": {
      "text/plain": "Iteration:   0%|          | 0/1029 [00:00<?, ?it/s]",
      "application/vnd.jupyter.widget-view+json": {
       "version_major": 2,
       "version_minor": 0,
       "model_id": "9d45b612cd744ebdb0668a5f3a0b8871"
      }
     },
     "metadata": {},
     "output_type": "display_data"
    },
    {
     "data": {
      "text/plain": "Iteration:   0%|          | 0/129 [00:00<?, ?it/s]",
      "application/vnd.jupyter.widget-view+json": {
       "version_major": 2,
       "version_minor": 0,
       "model_id": "cf3cfaa12f224cdfb83ff0c9f6cbd098"
      }
     },
     "metadata": {},
     "output_type": "display_data"
    },
    {
     "data": {
      "text/plain": "Iteration:   0%|          | 0/129 [00:00<?, ?it/s]",
      "application/vnd.jupyter.widget-view+json": {
       "version_major": 2,
       "version_minor": 0,
       "model_id": "cbfc19ffab59458f9f2985823def4ae9"
      }
     },
     "metadata": {},
     "output_type": "display_data"
    },
    {
     "name": "stdout",
     "output_type": "stream",
     "text": [
      "Epoch: 17, Loss: 0.1678, Train: 50.06%, Valid: 52.44% Test: 44.36%\n",
      "Training...\n"
     ]
    },
    {
     "data": {
      "text/plain": "Iteration:   0%|          | 0/1029 [00:00<?, ?it/s]",
      "application/vnd.jupyter.widget-view+json": {
       "version_major": 2,
       "version_minor": 0,
       "model_id": "2f997d04e78b4431bb4a9748b108a39d"
      }
     },
     "metadata": {},
     "output_type": "display_data"
    },
    {
     "name": "stdout",
     "output_type": "stream",
     "text": [
      "Evaluating...\n"
     ]
    },
    {
     "data": {
      "text/plain": "Iteration:   0%|          | 0/1029 [00:00<?, ?it/s]",
      "application/vnd.jupyter.widget-view+json": {
       "version_major": 2,
       "version_minor": 0,
       "model_id": "5a78af1b6ba54a658b679644ee4041b6"
      }
     },
     "metadata": {},
     "output_type": "display_data"
    },
    {
     "data": {
      "text/plain": "Iteration:   0%|          | 0/129 [00:00<?, ?it/s]",
      "application/vnd.jupyter.widget-view+json": {
       "version_major": 2,
       "version_minor": 0,
       "model_id": "c1a3af490f0045e8b3904805e07ec280"
      }
     },
     "metadata": {},
     "output_type": "display_data"
    },
    {
     "data": {
      "text/plain": "Iteration:   0%|          | 0/129 [00:00<?, ?it/s]",
      "application/vnd.jupyter.widget-view+json": {
       "version_major": 2,
       "version_minor": 0,
       "model_id": "b0f2fc1f806f4f629ed278e034880fde"
      }
     },
     "metadata": {},
     "output_type": "display_data"
    },
    {
     "name": "stdout",
     "output_type": "stream",
     "text": [
      "Epoch: 18, Loss: 0.0111, Train: 50.33%, Valid: 52.91% Test: 44.59%\n",
      "Training...\n"
     ]
    },
    {
     "data": {
      "text/plain": "Iteration:   0%|          | 0/1029 [00:00<?, ?it/s]",
      "application/vnd.jupyter.widget-view+json": {
       "version_major": 2,
       "version_minor": 0,
       "model_id": "24e300c7558d484ab6339cacb73429b0"
      }
     },
     "metadata": {},
     "output_type": "display_data"
    },
    {
     "name": "stdout",
     "output_type": "stream",
     "text": [
      "Evaluating...\n"
     ]
    },
    {
     "data": {
      "text/plain": "Iteration:   0%|          | 0/1029 [00:00<?, ?it/s]",
      "application/vnd.jupyter.widget-view+json": {
       "version_major": 2,
       "version_minor": 0,
       "model_id": "806911eef85b4eea920fe9993184495f"
      }
     },
     "metadata": {},
     "output_type": "display_data"
    },
    {
     "data": {
      "text/plain": "Iteration:   0%|          | 0/129 [00:00<?, ?it/s]",
      "application/vnd.jupyter.widget-view+json": {
       "version_major": 2,
       "version_minor": 0,
       "model_id": "c5c7dd0d330743398702f349a950f8db"
      }
     },
     "metadata": {},
     "output_type": "display_data"
    },
    {
     "data": {
      "text/plain": "Iteration:   0%|          | 0/129 [00:00<?, ?it/s]",
      "application/vnd.jupyter.widget-view+json": {
       "version_major": 2,
       "version_minor": 0,
       "model_id": "46c76fc45ccc4647b5dd69b633ef811f"
      }
     },
     "metadata": {},
     "output_type": "display_data"
    },
    {
     "name": "stdout",
     "output_type": "stream",
     "text": [
      "Epoch: 19, Loss: 0.1514, Train: 50.73%, Valid: 53.56% Test: 44.97%\n",
      "Training...\n"
     ]
    },
    {
     "data": {
      "text/plain": "Iteration:   0%|          | 0/1029 [00:00<?, ?it/s]",
      "application/vnd.jupyter.widget-view+json": {
       "version_major": 2,
       "version_minor": 0,
       "model_id": "6faa0c128fc545bcbde6627640dee9e5"
      }
     },
     "metadata": {},
     "output_type": "display_data"
    },
    {
     "name": "stdout",
     "output_type": "stream",
     "text": [
      "Evaluating...\n"
     ]
    },
    {
     "data": {
      "text/plain": "Iteration:   0%|          | 0/1029 [00:00<?, ?it/s]",
      "application/vnd.jupyter.widget-view+json": {
       "version_major": 2,
       "version_minor": 0,
       "model_id": "e400a81476e9415fbaa0c7d8ae3136f4"
      }
     },
     "metadata": {},
     "output_type": "display_data"
    },
    {
     "data": {
      "text/plain": "Iteration:   0%|          | 0/129 [00:00<?, ?it/s]",
      "application/vnd.jupyter.widget-view+json": {
       "version_major": 2,
       "version_minor": 0,
       "model_id": "5d6cadb318c0401ab44de5e5e71bca71"
      }
     },
     "metadata": {},
     "output_type": "display_data"
    },
    {
     "data": {
      "text/plain": "Iteration:   0%|          | 0/129 [00:00<?, ?it/s]",
      "application/vnd.jupyter.widget-view+json": {
       "version_major": 2,
       "version_minor": 0,
       "model_id": "67db0cd95a50401a977fc226f845d098"
      }
     },
     "metadata": {},
     "output_type": "display_data"
    },
    {
     "name": "stdout",
     "output_type": "stream",
     "text": [
      "Epoch: 20, Loss: 0.1347, Train: 51.13%, Valid: 54.45% Test: 45.48%\n",
      "Training...\n"
     ]
    },
    {
     "data": {
      "text/plain": "Iteration:   0%|          | 0/1029 [00:00<?, ?it/s]",
      "application/vnd.jupyter.widget-view+json": {
       "version_major": 2,
       "version_minor": 0,
       "model_id": "923c240311104ea5b60fbaa7ec2088d2"
      }
     },
     "metadata": {},
     "output_type": "display_data"
    },
    {
     "name": "stdout",
     "output_type": "stream",
     "text": [
      "Evaluating...\n"
     ]
    },
    {
     "data": {
      "text/plain": "Iteration:   0%|          | 0/1029 [00:00<?, ?it/s]",
      "application/vnd.jupyter.widget-view+json": {
       "version_major": 2,
       "version_minor": 0,
       "model_id": "1256991a95a44f79ac352dbd6ed8236b"
      }
     },
     "metadata": {},
     "output_type": "display_data"
    },
    {
     "data": {
      "text/plain": "Iteration:   0%|          | 0/129 [00:00<?, ?it/s]",
      "application/vnd.jupyter.widget-view+json": {
       "version_major": 2,
       "version_minor": 0,
       "model_id": "956a421f0737465bb5cbee948fb9b8cf"
      }
     },
     "metadata": {},
     "output_type": "display_data"
    },
    {
     "data": {
      "text/plain": "Iteration:   0%|          | 0/129 [00:00<?, ?it/s]",
      "application/vnd.jupyter.widget-view+json": {
       "version_major": 2,
       "version_minor": 0,
       "model_id": "49058a4a377e4a629cec86b42fead65b"
      }
     },
     "metadata": {},
     "output_type": "display_data"
    },
    {
     "name": "stdout",
     "output_type": "stream",
     "text": [
      "Epoch: 21, Loss: 0.1229, Train: 51.70%, Valid: 56.09% Test: 46.47%\n",
      "Training...\n"
     ]
    },
    {
     "data": {
      "text/plain": "Iteration:   0%|          | 0/1029 [00:00<?, ?it/s]",
      "application/vnd.jupyter.widget-view+json": {
       "version_major": 2,
       "version_minor": 0,
       "model_id": "cd97fa4185a74de18be9629895f0e9c8"
      }
     },
     "metadata": {},
     "output_type": "display_data"
    },
    {
     "name": "stdout",
     "output_type": "stream",
     "text": [
      "Evaluating...\n"
     ]
    },
    {
     "data": {
      "text/plain": "Iteration:   0%|          | 0/1029 [00:00<?, ?it/s]",
      "application/vnd.jupyter.widget-view+json": {
       "version_major": 2,
       "version_minor": 0,
       "model_id": "c34edc4bd5f6455385b2387f89ad28db"
      }
     },
     "metadata": {},
     "output_type": "display_data"
    },
    {
     "data": {
      "text/plain": "Iteration:   0%|          | 0/129 [00:00<?, ?it/s]",
      "application/vnd.jupyter.widget-view+json": {
       "version_major": 2,
       "version_minor": 0,
       "model_id": "51a5363d62a242818db0d75f1218f8a1"
      }
     },
     "metadata": {},
     "output_type": "display_data"
    },
    {
     "data": {
      "text/plain": "Iteration:   0%|          | 0/129 [00:00<?, ?it/s]",
      "application/vnd.jupyter.widget-view+json": {
       "version_major": 2,
       "version_minor": 0,
       "model_id": "135b9a8d0743437aa0e80febe198479f"
      }
     },
     "metadata": {},
     "output_type": "display_data"
    },
    {
     "name": "stdout",
     "output_type": "stream",
     "text": [
      "Epoch: 22, Loss: 0.1629, Train: 52.19%, Valid: 57.68% Test: 47.77%\n",
      "Training...\n"
     ]
    },
    {
     "data": {
      "text/plain": "Iteration:   0%|          | 0/1029 [00:00<?, ?it/s]",
      "application/vnd.jupyter.widget-view+json": {
       "version_major": 2,
       "version_minor": 0,
       "model_id": "9b8a38f56481435c95e85dcd56aee89a"
      }
     },
     "metadata": {},
     "output_type": "display_data"
    },
    {
     "name": "stdout",
     "output_type": "stream",
     "text": [
      "Evaluating...\n"
     ]
    },
    {
     "data": {
      "text/plain": "Iteration:   0%|          | 0/1029 [00:00<?, ?it/s]",
      "application/vnd.jupyter.widget-view+json": {
       "version_major": 2,
       "version_minor": 0,
       "model_id": "ed1e886e55fc4a24b353e684e8b8bb30"
      }
     },
     "metadata": {},
     "output_type": "display_data"
    },
    {
     "data": {
      "text/plain": "Iteration:   0%|          | 0/129 [00:00<?, ?it/s]",
      "application/vnd.jupyter.widget-view+json": {
       "version_major": 2,
       "version_minor": 0,
       "model_id": "cbdccd7b393946ccb536ea5b9e9d8629"
      }
     },
     "metadata": {},
     "output_type": "display_data"
    },
    {
     "data": {
      "text/plain": "Iteration:   0%|          | 0/129 [00:00<?, ?it/s]",
      "application/vnd.jupyter.widget-view+json": {
       "version_major": 2,
       "version_minor": 0,
       "model_id": "fac6c7e0576e480a9b378b384caa525f"
      }
     },
     "metadata": {},
     "output_type": "display_data"
    },
    {
     "name": "stdout",
     "output_type": "stream",
     "text": [
      "Epoch: 23, Loss: 0.0183, Train: 52.80%, Valid: 59.34% Test: 50.06%\n",
      "Training...\n"
     ]
    },
    {
     "data": {
      "text/plain": "Iteration:   0%|          | 0/1029 [00:00<?, ?it/s]",
      "application/vnd.jupyter.widget-view+json": {
       "version_major": 2,
       "version_minor": 0,
       "model_id": "81c7afc34e8d468bb0684ca0bb3b7797"
      }
     },
     "metadata": {},
     "output_type": "display_data"
    },
    {
     "name": "stdout",
     "output_type": "stream",
     "text": [
      "Evaluating...\n"
     ]
    },
    {
     "data": {
      "text/plain": "Iteration:   0%|          | 0/1029 [00:00<?, ?it/s]",
      "application/vnd.jupyter.widget-view+json": {
       "version_major": 2,
       "version_minor": 0,
       "model_id": "ebea040e58c541429cb66742ac95739d"
      }
     },
     "metadata": {},
     "output_type": "display_data"
    },
    {
     "data": {
      "text/plain": "Iteration:   0%|          | 0/129 [00:00<?, ?it/s]",
      "application/vnd.jupyter.widget-view+json": {
       "version_major": 2,
       "version_minor": 0,
       "model_id": "a33466f65d0a4028a7b5a8d43c9869ea"
      }
     },
     "metadata": {},
     "output_type": "display_data"
    },
    {
     "data": {
      "text/plain": "Iteration:   0%|          | 0/129 [00:00<?, ?it/s]",
      "application/vnd.jupyter.widget-view+json": {
       "version_major": 2,
       "version_minor": 0,
       "model_id": "a59bb28744f14838aba97013e5080aa3"
      }
     },
     "metadata": {},
     "output_type": "display_data"
    },
    {
     "name": "stdout",
     "output_type": "stream",
     "text": [
      "Epoch: 24, Loss: 0.0196, Train: 53.68%, Valid: 61.44% Test: 53.88%\n",
      "Training...\n"
     ]
    },
    {
     "data": {
      "text/plain": "Iteration:   0%|          | 0/1029 [00:00<?, ?it/s]",
      "application/vnd.jupyter.widget-view+json": {
       "version_major": 2,
       "version_minor": 0,
       "model_id": "bc14c99e6c5341babfd65c41e363f7a3"
      }
     },
     "metadata": {},
     "output_type": "display_data"
    },
    {
     "name": "stdout",
     "output_type": "stream",
     "text": [
      "Evaluating...\n"
     ]
    },
    {
     "data": {
      "text/plain": "Iteration:   0%|          | 0/1029 [00:00<?, ?it/s]",
      "application/vnd.jupyter.widget-view+json": {
       "version_major": 2,
       "version_minor": 0,
       "model_id": "fcffd7ccb3864628872112496be61ee4"
      }
     },
     "metadata": {},
     "output_type": "display_data"
    },
    {
     "data": {
      "text/plain": "Iteration:   0%|          | 0/129 [00:00<?, ?it/s]",
      "application/vnd.jupyter.widget-view+json": {
       "version_major": 2,
       "version_minor": 0,
       "model_id": "04d85855375347499bb67f72b6076b36"
      }
     },
     "metadata": {},
     "output_type": "display_data"
    },
    {
     "data": {
      "text/plain": "Iteration:   0%|          | 0/129 [00:00<?, ?it/s]",
      "application/vnd.jupyter.widget-view+json": {
       "version_major": 2,
       "version_minor": 0,
       "model_id": "37b6053d657a45a49f24bb8bcd644ae2"
      }
     },
     "metadata": {},
     "output_type": "display_data"
    },
    {
     "name": "stdout",
     "output_type": "stream",
     "text": [
      "Epoch: 25, Loss: 0.1540, Train: 54.85%, Valid: 64.20% Test: 59.44%\n",
      "Training...\n"
     ]
    },
    {
     "data": {
      "text/plain": "Iteration:   0%|          | 0/1029 [00:00<?, ?it/s]",
      "application/vnd.jupyter.widget-view+json": {
       "version_major": 2,
       "version_minor": 0,
       "model_id": "6c89f16420454fcdbb62be0abe412b41"
      }
     },
     "metadata": {},
     "output_type": "display_data"
    },
    {
     "name": "stdout",
     "output_type": "stream",
     "text": [
      "Evaluating...\n"
     ]
    },
    {
     "data": {
      "text/plain": "Iteration:   0%|          | 0/1029 [00:00<?, ?it/s]",
      "application/vnd.jupyter.widget-view+json": {
       "version_major": 2,
       "version_minor": 0,
       "model_id": "98f024fbca80415ea96eec3249b0fb8e"
      }
     },
     "metadata": {},
     "output_type": "display_data"
    },
    {
     "data": {
      "text/plain": "Iteration:   0%|          | 0/129 [00:00<?, ?it/s]",
      "application/vnd.jupyter.widget-view+json": {
       "version_major": 2,
       "version_minor": 0,
       "model_id": "acd565a70f964c35b6fd2a4f2481dab1"
      }
     },
     "metadata": {},
     "output_type": "display_data"
    },
    {
     "data": {
      "text/plain": "Iteration:   0%|          | 0/129 [00:00<?, ?it/s]",
      "application/vnd.jupyter.widget-view+json": {
       "version_major": 2,
       "version_minor": 0,
       "model_id": "dd10cf59fce04b90b5c48a5b09ca68c9"
      }
     },
     "metadata": {},
     "output_type": "display_data"
    },
    {
     "name": "stdout",
     "output_type": "stream",
     "text": [
      "Epoch: 26, Loss: 0.1241, Train: 55.05%, Valid: 64.95% Test: 62.04%\n",
      "Training...\n"
     ]
    },
    {
     "data": {
      "text/plain": "Iteration:   0%|          | 0/1029 [00:00<?, ?it/s]",
      "application/vnd.jupyter.widget-view+json": {
       "version_major": 2,
       "version_minor": 0,
       "model_id": "50381c325fd04ed39f8a9bdfbe1c6a33"
      }
     },
     "metadata": {},
     "output_type": "display_data"
    },
    {
     "name": "stdout",
     "output_type": "stream",
     "text": [
      "Evaluating...\n"
     ]
    },
    {
     "data": {
      "text/plain": "Iteration:   0%|          | 0/1029 [00:00<?, ?it/s]",
      "application/vnd.jupyter.widget-view+json": {
       "version_major": 2,
       "version_minor": 0,
       "model_id": "5e7b1ed1baea4df198321ce9fdcd9fa7"
      }
     },
     "metadata": {},
     "output_type": "display_data"
    },
    {
     "data": {
      "text/plain": "Iteration:   0%|          | 0/129 [00:00<?, ?it/s]",
      "application/vnd.jupyter.widget-view+json": {
       "version_major": 2,
       "version_minor": 0,
       "model_id": "08ba1601aa9b49b1af0c97200f5d3093"
      }
     },
     "metadata": {},
     "output_type": "display_data"
    },
    {
     "data": {
      "text/plain": "Iteration:   0%|          | 0/129 [00:00<?, ?it/s]",
      "application/vnd.jupyter.widget-view+json": {
       "version_major": 2,
       "version_minor": 0,
       "model_id": "10ffeb13997d4aa095121f8b6ac5e55e"
      }
     },
     "metadata": {},
     "output_type": "display_data"
    },
    {
     "name": "stdout",
     "output_type": "stream",
     "text": [
      "Epoch: 27, Loss: 0.2663, Train: 55.22%, Valid: 65.32% Test: 63.98%\n",
      "Training...\n"
     ]
    },
    {
     "data": {
      "text/plain": "Iteration:   0%|          | 0/1029 [00:00<?, ?it/s]",
      "application/vnd.jupyter.widget-view+json": {
       "version_major": 2,
       "version_minor": 0,
       "model_id": "c9c2b4989f6b44c38f441f557ac812da"
      }
     },
     "metadata": {},
     "output_type": "display_data"
    },
    {
     "name": "stdout",
     "output_type": "stream",
     "text": [
      "Evaluating...\n"
     ]
    },
    {
     "data": {
      "text/plain": "Iteration:   0%|          | 0/1029 [00:00<?, ?it/s]",
      "application/vnd.jupyter.widget-view+json": {
       "version_major": 2,
       "version_minor": 0,
       "model_id": "b7f6091b2ccc4008a917629a9b5c0bbc"
      }
     },
     "metadata": {},
     "output_type": "display_data"
    },
    {
     "data": {
      "text/plain": "Iteration:   0%|          | 0/129 [00:00<?, ?it/s]",
      "application/vnd.jupyter.widget-view+json": {
       "version_major": 2,
       "version_minor": 0,
       "model_id": "106f4960e1244d32ab7188d35e231826"
      }
     },
     "metadata": {},
     "output_type": "display_data"
    },
    {
     "data": {
      "text/plain": "Iteration:   0%|          | 0/129 [00:00<?, ?it/s]",
      "application/vnd.jupyter.widget-view+json": {
       "version_major": 2,
       "version_minor": 0,
       "model_id": "bea3e3adc585419c80d5bbcc04afe596"
      }
     },
     "metadata": {},
     "output_type": "display_data"
    },
    {
     "name": "stdout",
     "output_type": "stream",
     "text": [
      "Epoch: 28, Loss: 0.2584, Train: 55.39%, Valid: 65.03% Test: 65.82%\n",
      "Training...\n"
     ]
    },
    {
     "data": {
      "text/plain": "Iteration:   0%|          | 0/1029 [00:00<?, ?it/s]",
      "application/vnd.jupyter.widget-view+json": {
       "version_major": 2,
       "version_minor": 0,
       "model_id": "84a6d88c372b437996976f87451756c6"
      }
     },
     "metadata": {},
     "output_type": "display_data"
    },
    {
     "name": "stdout",
     "output_type": "stream",
     "text": [
      "Evaluating...\n"
     ]
    },
    {
     "data": {
      "text/plain": "Iteration:   0%|          | 0/1029 [00:00<?, ?it/s]",
      "application/vnd.jupyter.widget-view+json": {
       "version_major": 2,
       "version_minor": 0,
       "model_id": "3138adb6df9742efb95f886f510d77c0"
      }
     },
     "metadata": {},
     "output_type": "display_data"
    },
    {
     "data": {
      "text/plain": "Iteration:   0%|          | 0/129 [00:00<?, ?it/s]",
      "application/vnd.jupyter.widget-view+json": {
       "version_major": 2,
       "version_minor": 0,
       "model_id": "26bb1df99cf540498af31b23b2829fcc"
      }
     },
     "metadata": {},
     "output_type": "display_data"
    },
    {
     "data": {
      "text/plain": "Iteration:   0%|          | 0/129 [00:00<?, ?it/s]",
      "application/vnd.jupyter.widget-view+json": {
       "version_major": 2,
       "version_minor": 0,
       "model_id": "9566a636f05c40a2a0ef50f9ec0b6d60"
      }
     },
     "metadata": {},
     "output_type": "display_data"
    },
    {
     "name": "stdout",
     "output_type": "stream",
     "text": [
      "Epoch: 29, Loss: 0.1432, Train: 55.91%, Valid: 64.93% Test: 66.97%\n",
      "Training...\n"
     ]
    },
    {
     "data": {
      "text/plain": "Iteration:   0%|          | 0/1029 [00:00<?, ?it/s]",
      "application/vnd.jupyter.widget-view+json": {
       "version_major": 2,
       "version_minor": 0,
       "model_id": "0995770d2eda46b1a7eb3ecd59ce58af"
      }
     },
     "metadata": {},
     "output_type": "display_data"
    },
    {
     "name": "stdout",
     "output_type": "stream",
     "text": [
      "Evaluating...\n"
     ]
    },
    {
     "data": {
      "text/plain": "Iteration:   0%|          | 0/1029 [00:00<?, ?it/s]",
      "application/vnd.jupyter.widget-view+json": {
       "version_major": 2,
       "version_minor": 0,
       "model_id": "299db6d0fd444b1c996f154f829082bf"
      }
     },
     "metadata": {},
     "output_type": "display_data"
    },
    {
     "data": {
      "text/plain": "Iteration:   0%|          | 0/129 [00:00<?, ?it/s]",
      "application/vnd.jupyter.widget-view+json": {
       "version_major": 2,
       "version_minor": 0,
       "model_id": "38538180c98a46ed8133d4249fbc4598"
      }
     },
     "metadata": {},
     "output_type": "display_data"
    },
    {
     "data": {
      "text/plain": "Iteration:   0%|          | 0/129 [00:00<?, ?it/s]",
      "application/vnd.jupyter.widget-view+json": {
       "version_major": 2,
       "version_minor": 0,
       "model_id": "788192b28d4e473c9ba8e792fd0fcf68"
      }
     },
     "metadata": {},
     "output_type": "display_data"
    },
    {
     "name": "stdout",
     "output_type": "stream",
     "text": [
      "Epoch: 30, Loss: 0.1505, Train: 56.98%, Valid: 65.48% Test: 67.57%\n"
     ]
    }
   ]
  },
  {
   "cell_type": "markdown",
   "metadata": {
    "id": "6I17-Qso_n88"
   },
   "source": [
    "## Question 6: What are your `best_model` validation and test ROC-AUC scores? (20 points)\n",
    "\n",
    "Run the cell below to see the results of your best of model and save your model's predictions over the validation and test datasets. The resulting files are named *ogbn-arxiv_graph_valid.csv* and *ogbn-arxiv_graph_test.csv*. \n",
    "\n",
    "Again, you can view these files by clicking on the *Folder* icon on the left side pannel. As in Colab 1, when you sumbit your assignment, you will have to download these files and attatch them to your submission."
   ]
  },
  {
   "cell_type": "code",
   "metadata": {
    "id": "Oq5QaG21dOOO"
   },
   "source": [
    "if 'IS_GRADESCOPE_ENV' not in os.environ:\n",
    "    train_acc = eval(best_model, device, train_loader, evaluator)[dataset.eval_metric]\n",
    "    valid_acc = eval(best_model, device, valid_loader, evaluator, save_model_results=True, save_file=\"valid\")[\n",
    "        dataset.eval_metric]\n",
    "    test_acc = eval(best_model, device, test_loader, evaluator, save_model_results=True, save_file=\"test\")[\n",
    "        dataset.eval_metric]\n",
    "\n",
    "    print(f'Best model: '\n",
    "          f'Train: {100 * train_acc:.2f}%, '\n",
    "          f'Valid: {100 * valid_acc:.2f}% '\n",
    "          f'Test: {100 * test_acc:.2f}%')"
   ],
   "execution_count": 287,
   "outputs": [
    {
     "data": {
      "text/plain": "Iteration:   0%|          | 0/1029 [00:00<?, ?it/s]",
      "application/vnd.jupyter.widget-view+json": {
       "version_major": 2,
       "version_minor": 0,
       "model_id": "7581f07f76294b2da9cd1a97aeeca71e"
      }
     },
     "metadata": {},
     "output_type": "display_data"
    },
    {
     "data": {
      "text/plain": "Iteration:   0%|          | 0/129 [00:00<?, ?it/s]",
      "application/vnd.jupyter.widget-view+json": {
       "version_major": 2,
       "version_minor": 0,
       "model_id": "3e6357208ee8434facf2036ed84cf3fb"
      }
     },
     "metadata": {},
     "output_type": "display_data"
    },
    {
     "name": "stdout",
     "output_type": "stream",
     "text": [
      "Saving Model Predictions\n"
     ]
    },
    {
     "data": {
      "text/plain": "Iteration:   0%|          | 0/129 [00:00<?, ?it/s]",
      "application/vnd.jupyter.widget-view+json": {
       "version_major": 2,
       "version_minor": 0,
       "model_id": "766ed861fcbf40c58e6c41e0ec68e583"
      }
     },
     "metadata": {},
     "output_type": "display_data"
    },
    {
     "name": "stdout",
     "output_type": "stream",
     "text": [
      "Saving Model Predictions\n",
      "Best model: Train: 56.98%, Valid: 65.48% Test: 67.57%\n"
     ]
    }
   ]
  },
  {
   "cell_type": "markdown",
   "metadata": {
    "id": "gBi_t8n0iZ4P"
   },
   "source": [
    "## Question 7 (Optional): Experiment with the two other global pooling layers in Pytorch Geometric."
   ]
  },
  {
   "cell_type": "markdown",
   "metadata": {
    "id": "e7JXsMTBgeOI"
   },
   "source": [
    "# Submission\n",
    "\n",
    "You will need to submit four files on Gradescope to complete this notebook. \n",
    "\n",
    "1.   Your completed *CS224W_Colab2.ipynb*. From the \"File\" menu select \"Download .ipynb\" to save a local copy of your completed Colab. **PLEASE DO NOT CHANGE THE NAME!** The autograder depends on the .ipynb file being called \"CS224W_Colab2.ipynb\".\n",
    "2.  *ogbn-arxiv_node.csv* \n",
    "3.  *ogbg-molhiv_graph_valid.csv*\n",
    "4.  *ogbg-molhiv_graph_test.csv*\n",
    "\n",
    "Download the csv files by selecting the *Folder* icon on the left panel. \n",
    "\n",
    "To submit your work, zip the files downloaded in steps 1-4 above and submit to gradescope. **NOTE:** DO NOT rename any of the downloaded files. "
   ]
  }
 ]
}
